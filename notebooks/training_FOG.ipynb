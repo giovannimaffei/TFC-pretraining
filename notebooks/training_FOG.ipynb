{
 "cells": [
  {
   "cell_type": "code",
   "execution_count": 16,
   "metadata": {},
   "outputs": [],
   "source": [
    "import sys\n",
    "import os\n",
    "import matplotlib.pyplot as plt"
   ]
  },
  {
   "attachments": {},
   "cell_type": "markdown",
   "metadata": {},
   "source": [
    "# TFC training"
   ]
  },
  {
   "cell_type": "code",
   "execution_count": 17,
   "metadata": {},
   "outputs": [],
   "source": [
    "sys.path.append('/Users/giovanni/Documents/Atai/projects/tfc_pretrain/TFC-pretraining/code/TFC/')\n",
    "sys.path.append('/Users/giovanni/Documents/Atai/projects/tfc_pretrain/TFC-pretraining/code/TFC/model')\n",
    "sys.path.append('/Users/giovanni/Documents/Atai/projects/tfc_pretrain/TFC-pretraining/code/TFC/trainer')\n",
    "sys.path.append('/Users/giovanni/Documents/Atai/projects/tfc_pretrain/TFC-pretraining/code/TFC/dataloader')\n",
    "sys.path.append('/Users/giovanni/Documents/Atai/projects/tfc_pretrain/TFC-pretraining/code/config_files/')\n",
    "sys.path.append('/Users/giovanni/Documents/Atai/projects/tfc_pretrain/TFC-pretraining/code/config_files/SleepEEG_Configs')\n",
    "sys.path.append('/Users/giovanni/Documents/Atai/projects/tfc_pretrain/TFC-pretraining/code/config_files/HAR_Configs')\n",
    "sys.path.append('/Users/giovanni/Documents/Atai/projects/tfc_pretrain/TFC-pretraining/code/config_files/FOG_Configs')\n"
   ]
  },
  {
   "cell_type": "code",
   "execution_count": 18,
   "metadata": {},
   "outputs": [],
   "source": [
    "import torch\n",
    "from torch import nn\n",
    "from model import TFC, target_classifier\n",
    "from dataloader import data_generator\n",
    "from trainer import model_pretrain\n"
   ]
  },
  {
   "cell_type": "code",
   "execution_count": null,
   "metadata": {},
   "outputs": [],
   "source": [
    "\n"
   ]
  },
  {
   "cell_type": "code",
   "execution_count": 19,
   "metadata": {},
   "outputs": [
    {
     "data": {
      "text/plain": [
       "True"
      ]
     },
     "execution_count": 19,
     "metadata": {},
     "output_type": "execute_result"
    }
   ],
   "source": [
    "torch.backends.mps.is_available()"
   ]
  },
  {
   "cell_type": "markdown",
   "metadata": {},
   "source": [
    "### define configs"
   ]
  },
  {
   "cell_type": "code",
   "execution_count": 20,
   "metadata": {},
   "outputs": [],
   "source": [
    "# from SleepEEG_Configs import Config as Configs\n",
    "\n",
    "# SEED = 42\n",
    "# arch = 'sleep_EEG'\n",
    "# save_model_path = 'experiment_logs/pretrainmodel/'\n",
    "# sourcedata_path = '../datasets/SleepEEG/'\n",
    "# targetdata_path = '../datasets/Epilepsy/'"
   ]
  },
  {
   "cell_type": "code",
   "execution_count": 23,
   "metadata": {},
   "outputs": [],
   "source": [
    "from HAR_Configs import Config as Configs\n",
    "\n",
    "SEED = 42\n",
    "arch = 'HAR'\n",
    "save_model_path = 'experiment_logs/pretrainmodel/'\n",
    "sourcedata_path = '../datasets/HAR/'\n",
    "targetdata_path = '../datasets/Gesture/'"
   ]
  },
  {
   "cell_type": "code",
   "execution_count": 24,
   "metadata": {},
   "outputs": [],
   "source": [
    "training_mode = 'pre_train'\n",
    "subset = True\n",
    "\n",
    "\n",
    "device = torch.device(\"mps\")\n",
    "configs = Configs()"
   ]
  },
  {
   "cell_type": "code",
   "execution_count": 25,
   "metadata": {},
   "outputs": [
    {
     "data": {
      "text/plain": [
       "1"
      ]
     },
     "execution_count": 25,
     "metadata": {},
     "output_type": "execute_result"
    }
   ],
   "source": [
    "configs.input_channels"
   ]
  },
  {
   "attachments": {},
   "cell_type": "markdown",
   "metadata": {},
   "source": [
    "### create TFC model and finetuning classifier"
   ]
  },
  {
   "cell_type": "code",
   "execution_count": 26,
   "metadata": {},
   "outputs": [],
   "source": [
    "TFC_model = TFC(configs).to(device)"
   ]
  },
  {
   "attachments": {},
   "cell_type": "markdown",
   "metadata": {},
   "source": [
    "### create optimizers"
   ]
  },
  {
   "cell_type": "code",
   "execution_count": 27,
   "metadata": {},
   "outputs": [],
   "source": [
    "model_optimizer = torch.optim.Adam(TFC_model.parameters(), lr=configs.lr, betas=(configs.beta1, configs.beta2), weight_decay=3e-4)\n",
    "\n",
    "criterion = nn.CrossEntropyLoss()\n",
    "scheduler = torch.optim.lr_scheduler.ReduceLROnPlateau(model_optimizer, 'min')"
   ]
  },
  {
   "attachments": {},
   "cell_type": "markdown",
   "metadata": {},
   "source": [
    "### load datasets"
   ]
  },
  {
   "cell_type": "code",
   "execution_count": 28,
   "metadata": {},
   "outputs": [
    {
     "name": "stdout",
     "output_type": "stream",
     "text": [
      "Using subset for debugging, the datasize is: 1280\n",
      "Using subset for debugging, the datasize is: 320\n"
     ]
    }
   ],
   "source": [
    "train_dl, _, _ = data_generator(sourcedata_path, targetdata_path, configs, training_mode, subset=subset)"
   ]
  },
  {
   "cell_type": "code",
   "execution_count": 29,
   "metadata": {},
   "outputs": [],
   "source": [
    "data, labels, aug1, data_f, aug1_f = next(iter(train_dl))"
   ]
  },
  {
   "cell_type": "code",
   "execution_count": 30,
   "metadata": {},
   "outputs": [
    {
     "data": {
      "text/plain": [
       "torch.Size([128, 1, 206])"
      ]
     },
     "execution_count": 30,
     "metadata": {},
     "output_type": "execute_result"
    }
   ],
   "source": [
    "data.shape"
   ]
  },
  {
   "cell_type": "code",
   "execution_count": 31,
   "metadata": {},
   "outputs": [],
   "source": [
    "# idx = 10\n",
    "# plt.plot(aug1[idx,0,:].numpy())\n",
    "# plt.plot(data[idx,0,:].numpy())\n",
    "# plt.show()\n",
    "\n",
    "# plt.plot(aug1_f[0,0,:].numpy())\n",
    "# plt.plot(data_f[idx,0,:].numpy())\n",
    "# plt.ylim(0,20)"
   ]
  },
  {
   "cell_type": "code",
   "execution_count": null,
   "metadata": {},
   "outputs": [],
   "source": []
  },
  {
   "attachments": {},
   "cell_type": "markdown",
   "metadata": {},
   "source": [
    "### finetune and test loop"
   ]
  },
  {
   "cell_type": "code",
   "execution_count": 32,
   "metadata": {},
   "outputs": [
    {
     "name": "stdout",
     "output_type": "stream",
     "text": [
      "Pretraining: overall loss:8.87309741973877, l_t: 6.417147159576416, l_f:6.0149359703063965, l_c:6.386680603027344\n",
      "Pretraining: overall loss:8.619485855102539, l_t: 6.080162525177002, l_f:5.879101753234863, l_c:6.227632522583008\n",
      "Pretraining: overall loss:8.460010528564453, l_t: 5.9906392097473145, l_f:5.8426103591918945, l_c:6.093360424041748\n",
      "Pretraining: overall loss:8.361038208007812, l_t: 6.028828144073486, l_f:5.672528266906738, l_c:6.020766258239746\n",
      "Pretraining: overall loss:8.256662368774414, l_t: 5.910064220428467, l_f:5.872903823852539, l_c:5.900068283081055\n",
      "Pretraining: overall loss:8.071704864501953, l_t: 5.956943988800049, l_f:5.473799705505371, l_c:5.785556316375732\n",
      "Pretraining: overall loss:8.228230476379395, l_t: 5.9051737785339355, l_f:5.601764678955078, l_c:5.92684268951416\n",
      "Pretraining: overall loss:7.8596673011779785, l_t: 5.62347936630249, l_f:5.299314498901367, l_c:5.675108432769775\n",
      "Pretraining: overall loss:8.286123275756836, l_t: 5.767940998077393, l_f:5.115449905395508, l_c:6.109445095062256\n",
      "Pretraining: overall loss:7.929386615753174, l_t: 5.609553813934326, l_f:5.208186149597168, l_c:5.765838623046875\n",
      "Pretraining: overall loss:7.819893836975098, l_t: 5.701190948486328, l_f:5.308150291442871, l_c:5.618025779724121\n",
      "Pretraining: overall loss:7.775407791137695, l_t: 5.649011135101318, l_f:5.134016513824463, l_c:5.618802070617676\n",
      "Pretraining: overall loss:7.625490665435791, l_t: 5.574406147003174, l_f:5.117465496063232, l_c:5.48711633682251\n",
      "Pretraining: overall loss:7.663633346557617, l_t: 5.524120807647705, l_f:4.940414905548096, l_c:5.57072639465332\n",
      "Pretraining: overall loss:7.568686485290527, l_t: 5.467628479003906, l_f:5.246809959411621, l_c:5.4257988929748535\n",
      "Pretraining: overall loss:7.692690849304199, l_t: 5.561150550842285, l_f:5.149139404296875, l_c:5.550632476806641\n",
      "Pretraining: overall loss:7.4631853103637695, l_t: 5.424881458282471, l_f:4.923519611358643, l_c:5.393505096435547\n",
      "Pretraining: overall loss:7.301748275756836, l_t: 5.367253303527832, l_f:4.903348445892334, l_c:5.2476277351379395\n",
      "Pretraining: overall loss:7.308094024658203, l_t: 5.436570644378662, l_f:4.92664909362793, l_c:5.235450267791748\n",
      "Pretraining: overall loss:7.302842140197754, l_t: 5.349060535430908, l_f:4.858536243438721, l_c:5.261322975158691\n",
      "Pretraining: overall loss:7.148146152496338, l_t: 5.287423133850098, l_f:4.873857498168945, l_c:5.115890026092529\n",
      "Pretraining: overall loss:7.137474060058594, l_t: 5.276798248291016, l_f:4.792208194732666, l_c:5.1236724853515625\n",
      "Pretraining: overall loss:7.030822277069092, l_t: 5.117528438568115, l_f:4.733944892883301, l_c:5.060527801513672\n",
      "Pretraining: overall loss:7.170561790466309, l_t: 5.352029800415039, l_f:4.694977760314941, l_c:5.161160469055176\n",
      "Pretraining: overall loss:7.026124954223633, l_t: 5.251588821411133, l_f:4.747968673706055, l_c:5.026213645935059\n",
      "Pretraining: overall loss:6.930934906005859, l_t: 5.108602523803711, l_f:4.597129821777344, l_c:4.98978853225708\n",
      "Pretraining: overall loss:6.960080623626709, l_t: 5.214795112609863, l_f:4.640942573547363, l_c:4.988933086395264\n",
      "Pretraining: overall loss:6.898021697998047, l_t: 5.1937785148620605, l_f:4.691695213317871, l_c:4.920927047729492\n",
      "Pretraining: overall loss:6.945919513702393, l_t: 5.041004180908203, l_f:4.6467790603637695, l_c:5.008362770080566\n",
      "Pretraining: overall loss:6.8995442390441895, l_t: 5.090839862823486, l_f:4.553394317626953, l_c:4.970697402954102\n",
      "Pretraining: overall loss:6.912905216217041, l_t: 5.058964252471924, l_f:4.56572151184082, l_c:4.9879679679870605\n",
      "Pretraining: overall loss:6.921937465667725, l_t: 5.061954498291016, l_f:4.430942058563232, l_c:5.02335786819458\n",
      "Pretraining: overall loss:7.103016376495361, l_t: 5.198529243469238, l_f:4.625096321105957, l_c:5.138291358947754\n",
      "Pretraining: overall loss:6.970486640930176, l_t: 5.1899213790893555, l_f:4.534796714782715, l_c:5.025543212890625\n",
      "Pretraining: overall loss:6.969448089599609, l_t: 5.156427383422852, l_f:4.654507160186768, l_c:5.007261276245117\n",
      "Pretraining: overall loss:6.8364152908325195, l_t: 4.989969253540039, l_f:4.510629177093506, l_c:4.936295509338379\n",
      "Pretraining: overall loss:6.875157356262207, l_t: 5.097477436065674, l_f:4.5267510414123535, l_c:4.950311660766602\n",
      "Pretraining: overall loss:6.806558609008789, l_t: 5.0110931396484375, l_f:4.54838228225708, l_c:4.8946638107299805\n",
      "Pretraining: overall loss:6.6895976066589355, l_t: 4.9509711265563965, l_f:4.43665885925293, l_c:4.812071323394775\n",
      "Pretraining: overall loss:6.817506313323975, l_t: 5.054685592651367, l_f:4.373576641082764, l_c:4.931853771209717\n"
     ]
    }
   ],
   "source": [
    "### Pretraining on source dataset\n",
    "\n",
    "for epoch in range(1, configs.num_epoch + 1):\n",
    "\n",
    "    train_loss = model_pretrain(TFC_model, model_optimizer, criterion, train_dl, configs, device, training_mode)\n",
    "\n",
    "\n",
    "os.makedirs(save_model_path, exist_ok=True)\n",
    "chkpoint = {'model_state_dict': TFC_model.state_dict()}\n",
    "torch.save(chkpoint, os.path.join(save_model_path, f'{arch}_ckp_last.pt'))"
   ]
  },
  {
   "cell_type": "code",
   "execution_count": null,
   "metadata": {},
   "outputs": [],
   "source": []
  },
  {
   "attachments": {},
   "cell_type": "markdown",
   "metadata": {},
   "source": [
    "### visualise embeddings of training set"
   ]
  },
  {
   "cell_type": "code",
   "execution_count": 33,
   "metadata": {},
   "outputs": [],
   "source": [
    "from sklearn.manifold import TSNE"
   ]
  },
  {
   "cell_type": "code",
   "execution_count": 34,
   "metadata": {},
   "outputs": [],
   "source": [
    "data, labels, aug1, data_f, aug1_f = next(iter(train_dl))"
   ]
  },
  {
   "cell_type": "code",
   "execution_count": 35,
   "metadata": {},
   "outputs": [
    {
     "data": {
      "text/plain": [
       "tensor([[[ 0.9793,  0.9863,  0.9833,  ...,  0.0000,  0.0000,  0.0000]],\n",
       "\n",
       "        [[-0.3116, -0.3106, -0.3112,  ...,  0.0000,  0.0000,  0.0000]],\n",
       "\n",
       "        [[ 1.0125,  1.0139,  1.0144,  ...,  0.0000,  0.0000,  0.0000]],\n",
       "\n",
       "        ...,\n",
       "\n",
       "        [[ 1.0099,  1.0115,  1.0159,  ...,  0.0000,  0.0000,  0.0000]],\n",
       "\n",
       "        [[ 0.8330,  0.9300,  1.0950,  ...,  0.0000,  0.0000,  0.0000]],\n",
       "\n",
       "        [[ 0.9139,  1.0224,  1.0748,  ...,  0.0000,  0.0000,  0.0000]]])"
      ]
     },
     "execution_count": 35,
     "metadata": {},
     "output_type": "execute_result"
    }
   ],
   "source": [
    "data"
   ]
  },
  {
   "cell_type": "code",
   "execution_count": 36,
   "metadata": {},
   "outputs": [],
   "source": [
    "h_t, z_t, h_f, z_f = TFC_model(data.to(torch.float32).to(device), data_f.to(torch.float32).to(device))\n",
    "fea_concat = torch.cat((z_t, z_f), dim=1)\n",
    "fea_concat = fea_concat.to('cpu').detach().numpy()"
   ]
  },
  {
   "cell_type": "code",
   "execution_count": 37,
   "metadata": {},
   "outputs": [],
   "source": [
    "X_embedded = TSNE(n_components=2, learning_rate='auto', init='random', perplexity=3).fit_transform(fea_concat)"
   ]
  },
  {
   "cell_type": "code",
   "execution_count": 38,
   "metadata": {},
   "outputs": [
    {
     "data": {
      "text/plain": [
       "<matplotlib.collections.PathCollection at 0x7fd8107cd850>"
      ]
     },
     "execution_count": 38,
     "metadata": {},
     "output_type": "execute_result"
    },
    {
     "data": {
      "image/png": "[encoded data removed]",
      "text/plain": [
       "<Figure size 432x288 with 1 Axes>"
      ]
     },
     "metadata": {
      "needs_background": "light"
     },
     "output_type": "display_data"
    }
   ],
   "source": [
    "plt.scatter(X_embedded[:,0], X_embedded[:,1],c=list(labels.numpy()))"
   ]
  },
  {
   "cell_type": "code",
   "execution_count": 39,
   "metadata": {},
   "outputs": [
    {
     "data": {
      "text/plain": [
       "[<matplotlib.lines.Line2D at 0x7fd830b827c0>]"
      ]
     },
     "execution_count": 39,
     "metadata": {},
     "output_type": "execute_result"
    },
    {
     "data": {
      "image/png": "[encoded data removed]",
      "text/plain": [
       "<Figure size 432x288 with 1 Axes>"
      ]
     },
     "metadata": {
      "needs_background": "light"
     },
     "output_type": "display_data"
    }
   ],
   "source": [
    "plt.plot(data.numpy()[60,0,:])"
   ]
  },
  {
   "cell_type": "code",
   "execution_count": 60,
   "metadata": {},
   "outputs": [],
   "source": [
    "data, labels, aug1, data_f, aug1_f = next(iter(train_dl))"
   ]
  },
  {
   "cell_type": "code",
   "execution_count": 61,
   "metadata": {},
   "outputs": [
    {
     "data": {
      "text/plain": [
       "torch.Size([128, 1, 500])"
      ]
     },
     "execution_count": 61,
     "metadata": {},
     "output_type": "execute_result"
    }
   ],
   "source": [
    "data.shape"
   ]
  },
  {
   "cell_type": "code",
   "execution_count": null,
   "metadata": {},
   "outputs": [],
   "source": []
  }
 ],
 "metadata": {
  "kernelspec": {
   "display_name": "dl_env_39",
   "language": "python",
   "name": "dl_env"
  },
  "language_info": {
   "codemirror_mode": {
    "name": "ipython",
    "version": 3
   },
   "file_extension": ".py",
   "mimetype": "text/x-python",
   "name": "python",
   "nbconvert_exporter": "python",
   "pygments_lexer": "ipython3",
   "version": "3.9.7"
  },
  "orig_nbformat": 4,
  "vscode": {
   "interpreter": {
    "hash": "d079bcb107641a1326df1bc84975df91168e37aa8e1fb79a357e0c3f937b5f74"
   }
  }
 },
 "nbformat": 4,
 "nbformat_minor": 2
}
