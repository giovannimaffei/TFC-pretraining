{
 "cells": [
  {
   "cell_type": "code",
   "execution_count": 1,
   "metadata": {},
   "outputs": [],
   "source": [
    "import sys\n",
    "import os\n",
    "import matplotlib.pyplot as plt"
   ]
  },
  {
   "attachments": {},
   "cell_type": "markdown",
   "metadata": {},
   "source": [
    "# TFC training"
   ]
  },
  {
   "cell_type": "code",
   "execution_count": 2,
   "metadata": {},
   "outputs": [],
   "source": [
    "sys.path.append('/Users/giovanni/Documents/Atai/projects/tfc_pretrain/TFC-pretraining/code/TFC/')\n",
    "sys.path.append('/Users/giovanni/Documents/Atai/projects/tfc_pretrain/TFC-pretraining/code/TFC/model')\n",
    "sys.path.append('/Users/giovanni/Documents/Atai/projects/tfc_pretrain/TFC-pretraining/code/TFC/trainer')\n",
    "sys.path.append('/Users/giovanni/Documents/Atai/projects/tfc_pretrain/TFC-pretraining/code/TFC/dataloader')\n",
    "sys.path.append('/Users/giovanni/Documents/Atai/projects/tfc_pretrain/TFC-pretraining/code/config_files/')\n",
    "sys.path.append('/Users/giovanni/Documents/Atai/projects/tfc_pretrain/TFC-pretraining/code/config_files/SleepEEG_Configs')\n",
    "sys.path.append('/Users/giovanni/Documents/Atai/projects/tfc_pretrain/TFC-pretraining/code/config_files/HAR_Configs')\n",
    "sys.path.append('/Users/giovanni/Documents/Atai/projects/tfc_pretrain/TFC-pretraining/code/config_files/FOG_Configs')\n"
   ]
  },
  {
   "cell_type": "code",
   "execution_count": 3,
   "metadata": {},
   "outputs": [],
   "source": [
    "import torch\n",
    "from torch import nn\n",
    "from model import TFC, target_classifier\n",
    "from dataloader import data_generator\n",
    "from trainer import model_pretrain\n"
   ]
  },
  {
   "cell_type": "code",
   "execution_count": null,
   "metadata": {},
   "outputs": [],
   "source": [
    "\n"
   ]
  },
  {
   "cell_type": "code",
   "execution_count": 4,
   "metadata": {},
   "outputs": [
    {
     "data": {
      "text/plain": [
       "True"
      ]
     },
     "execution_count": 4,
     "metadata": {},
     "output_type": "execute_result"
    }
   ],
   "source": [
    "torch.backends.mps.is_available()"
   ]
  },
  {
   "cell_type": "markdown",
   "metadata": {},
   "source": [
    "### define configs"
   ]
  },
  {
   "cell_type": "code",
   "execution_count": 5,
   "metadata": {},
   "outputs": [],
   "source": [
    "# from SleepEEG_Configs import Config as Configs\n",
    "\n",
    "# SEED = 42\n",
    "# arch = 'sleep_EEG'\n",
    "# save_model_path = 'experiment_logs/pretrainmodel/'\n",
    "# sourcedata_path = '../datasets/SleepEEG/'\n",
    "# targetdata_path = '../datasets/Epilepsy/'"
   ]
  },
  {
   "cell_type": "code",
   "execution_count": 6,
   "metadata": {},
   "outputs": [],
   "source": [
    "from FOG_Configs import Config as Configs\n",
    "\n",
    "SEED = 42\n",
    "arch = 'FOG'\n",
    "save_model_path = 'experiment_logs/pretrainmodel/'\n",
    "sourcedata_path = '../datasets/FOG_pretrain/'\n",
    "targetdata_path = '../datasets/Gesture/'"
   ]
  },
  {
   "cell_type": "code",
   "execution_count": 15,
   "metadata": {},
   "outputs": [],
   "source": [
    "training_mode = 'pre_train'\n",
    "subset = False\n",
    "\n",
    "\n",
    "device = torch.device(\"mps\")\n",
    "configs = Configs()"
   ]
  },
  {
   "cell_type": "code",
   "execution_count": 16,
   "metadata": {},
   "outputs": [
    {
     "data": {
      "text/plain": [
       "1"
      ]
     },
     "execution_count": 16,
     "metadata": {},
     "output_type": "execute_result"
    }
   ],
   "source": [
    "configs.input_channels"
   ]
  },
  {
   "attachments": {},
   "cell_type": "markdown",
   "metadata": {},
   "source": [
    "### create TFC model and finetuning classifier"
   ]
  },
  {
   "cell_type": "code",
   "execution_count": 17,
   "metadata": {},
   "outputs": [],
   "source": [
    "TFC_model = TFC(configs).to(device)"
   ]
  },
  {
   "attachments": {},
   "cell_type": "markdown",
   "metadata": {},
   "source": [
    "### create optimizers"
   ]
  },
  {
   "cell_type": "code",
   "execution_count": 18,
   "metadata": {},
   "outputs": [],
   "source": [
    "model_optimizer = torch.optim.Adam(TFC_model.parameters(), lr=configs.lr, betas=(configs.beta1, configs.beta2), weight_decay=3e-4)\n",
    "\n",
    "criterion = nn.CrossEntropyLoss()\n",
    "scheduler = torch.optim.lr_scheduler.ReduceLROnPlateau(model_optimizer, 'min')"
   ]
  },
  {
   "attachments": {},
   "cell_type": "markdown",
   "metadata": {},
   "source": [
    "### load datasets"
   ]
  },
  {
   "cell_type": "code",
   "execution_count": 19,
   "metadata": {},
   "outputs": [],
   "source": [
    "train_dl, _, _ = data_generator(sourcedata_path, targetdata_path, configs, training_mode, subset=subset)"
   ]
  },
  {
   "cell_type": "code",
   "execution_count": 20,
   "metadata": {},
   "outputs": [],
   "source": [
    "data, labels, aug1, data_f, aug1_f = next(iter(train_dl))"
   ]
  },
  {
   "cell_type": "code",
   "execution_count": 21,
   "metadata": {},
   "outputs": [
    {
     "data": {
      "text/plain": [
       "torch.Size([128, 1, 500])"
      ]
     },
     "execution_count": 21,
     "metadata": {},
     "output_type": "execute_result"
    }
   ],
   "source": [
    "data.shape"
   ]
  },
  {
   "cell_type": "code",
   "execution_count": 22,
   "metadata": {},
   "outputs": [],
   "source": [
    "# idx = 80\n",
    "# plt.plot(aug1[idx,0,:].numpy())\n",
    "# plt.plot(data[idx,0,:].numpy())\n",
    "# plt.show()\n",
    "\n",
    "# plt.plot(aug1_f[0,0,:].numpy())\n",
    "# plt.plot(data_f[idx,0,:].numpy())\n",
    "# plt.ylim(0,10)"
   ]
  },
  {
   "cell_type": "code",
   "execution_count": null,
   "metadata": {},
   "outputs": [],
   "source": []
  },
  {
   "attachments": {},
   "cell_type": "markdown",
   "metadata": {},
   "source": [
    "### finetune and test loop"
   ]
  },
  {
   "cell_type": "code",
   "execution_count": 23,
   "metadata": {},
   "outputs": [
    {
     "name": "stderr",
     "output_type": "stream",
     "text": [
      "/Users/giovanni/Documents/Atai/projects/tfc_pretrain/TFC-pretraining/code/TFC/loss.py:119: UserWarning: The operator 'aten::nonzero' is not currently supported on the MPS backend and will fall back to run on the CPU. This may have performance implications. (Triggered internally at /Users/runner/work/pytorch/pytorch/pytorch/aten/src/ATen/mps/MPSFallback.mm:11.)\n",
      "  negatives = similarity_matrix[self.mask_samples_from_same_repr].view(2 * self.batch_size, -1)\n"
     ]
    },
    {
     "name": "stdout",
     "output_type": "stream",
     "text": [
      "Pretraining: overall loss:9.48289680480957, l_t: 6.08815336227417, l_f:6.595750331878662, l_c:6.946115493774414\n",
      "Pretraining: overall loss:9.364482879638672, l_t: 6.109065532684326, l_f:6.546109676361084, l_c:6.833447456359863\n",
      "Pretraining: overall loss:9.266663551330566, l_t: 6.206289291381836, l_f:6.535274028778076, l_c:6.718350410461426\n",
      "Pretraining: overall loss:9.159894943237305, l_t: 6.29329252243042, l_f:6.539393424987793, l_c:6.593358039855957\n",
      "Pretraining: overall loss:9.098553657531738, l_t: 6.165281295776367, l_f:6.53618860244751, l_c:6.558259963989258\n",
      "Pretraining: overall loss:9.103350639343262, l_t: 6.210666179656982, l_f:6.544307708740234, l_c:6.552355766296387\n",
      "Pretraining: overall loss:9.065276145935059, l_t: 6.051871299743652, l_f:6.535624980926514, l_c:6.54777717590332\n",
      "Pretraining: overall loss:9.128664016723633, l_t: 6.342955589294434, l_f:6.540048599243164, l_c:6.55206298828125\n",
      "Pretraining: overall loss:9.151665687561035, l_t: 6.412355422973633, l_f:6.540017604827881, l_c:6.561190605163574\n",
      "Pretraining: overall loss:9.161310195922852, l_t: 6.365362644195557, l_f:6.544475078582764, l_c:6.579342365264893\n",
      "Pretraining: overall loss:9.171548843383789, l_t: 6.31763219833374, l_f:6.540254592895508, l_c:6.599970817565918\n",
      "Pretraining: overall loss:9.142056465148926, l_t: 6.221832275390625, l_f:6.543697357177734, l_c:6.5889506340026855\n",
      "Pretraining: overall loss:9.138753890991211, l_t: 6.177272796630859, l_f:6.54373025894165, l_c:6.594553470611572\n",
      "Pretraining: overall loss:9.175134658813477, l_t: 6.178918838500977, l_f:6.605454444885254, l_c:6.618260383605957\n",
      "Pretraining: overall loss:9.145586967468262, l_t: 6.099545001983643, l_f:6.540020942687988, l_c:6.617673397064209\n",
      "Pretraining: overall loss:9.12012767791748, l_t: 6.131336688995361, l_f:6.535710334777832, l_c:6.5867180824279785\n",
      "Pretraining: overall loss:9.132930755615234, l_t: 6.305481910705566, l_f:6.539529800415039, l_c:6.563928127288818\n",
      "Pretraining: overall loss:9.117341995239258, l_t: 6.266953945159912, l_f:6.5406060218811035, l_c:6.555830478668213\n",
      "Pretraining: overall loss:9.1666259765625, l_t: 6.54216194152832, l_f:6.542247295379639, l_c:6.54974365234375\n",
      "Pretraining: overall loss:9.165388107299805, l_t: 6.542278289794922, l_f:6.541694641113281, l_c:6.548593997955322\n",
      "Pretraining: overall loss:9.169066429138184, l_t: 6.5451812744140625, l_f:6.542600154876709, l_c:6.551509857177734\n",
      "Pretraining: overall loss:9.1798095703125, l_t: 6.538358688354492, l_f:6.542972564697266, l_c:6.563543319702148\n",
      "Pretraining: overall loss:9.19682502746582, l_t: 6.538173675537109, l_f:6.5373454093933105, l_c:6.581721305847168\n",
      "Pretraining: overall loss:9.20969295501709, l_t: 6.541171550750732, l_f:6.541328430175781, l_c:6.593193054199219\n",
      "Pretraining: overall loss:9.213226318359375, l_t: 6.541868209838867, l_f:6.542740821838379, l_c:6.596304416656494\n",
      "Pretraining: overall loss:9.197000503540039, l_t: 6.543064117431641, l_f:6.538846969604492, l_c:6.580617904663086\n",
      "Pretraining: overall loss:9.174686431884766, l_t: 6.537632465362549, l_f:6.538752555847168, l_c:6.559409141540527\n",
      "Pretraining: overall loss:9.162325859069824, l_t: 6.5423808097839355, l_f:6.543540000915527, l_c:6.545141696929932\n",
      "Pretraining: overall loss:9.158967971801758, l_t: 6.536664009094238, l_f:6.539964199066162, l_c:6.543642520904541\n",
      "Pretraining: overall loss:9.159353256225586, l_t: 6.538572788238525, l_f:6.537572860717773, l_c:6.544124603271484\n",
      "Pretraining: overall loss:9.159540176391602, l_t: 6.542315483093262, l_f:6.540151596069336, l_c:6.543046951293945\n",
      "Pretraining: overall loss:9.163647651672363, l_t: 6.542008876800537, l_f:6.536541938781738, l_c:6.547937870025635\n",
      "Pretraining: overall loss:9.17143726348877, l_t: 6.540622711181641, l_f:6.537230491638184, l_c:6.555866718292236\n",
      "Pretraining: overall loss:9.185625076293945, l_t: 6.537797927856445, l_f:6.538453102111816, l_c:6.570374488830566\n",
      "Pretraining: overall loss:9.199950218200684, l_t: 6.539758682250977, l_f:6.53878927230835, l_c:6.584240436553955\n",
      "Pretraining: overall loss:9.198352813720703, l_t: 6.541318893432617, l_f:6.539880752563477, l_c:6.582113265991211\n",
      "Pretraining: overall loss:9.182656288146973, l_t: 6.539486885070801, l_f:6.539228439331055, l_c:6.56691312789917\n",
      "Pretraining: overall loss:9.169394493103027, l_t: 6.53883171081543, l_f:6.540237903594971, l_c:6.553580284118652\n",
      "Pretraining: overall loss:9.164604187011719, l_t: 6.539748191833496, l_f:6.5413408279418945, l_c:6.548386096954346\n",
      "Pretraining: overall loss:9.074392318725586, l_t: 6.104739665985107, l_f:6.540093898773193, l_c:6.545425891876221\n"
     ]
    }
   ],
   "source": [
    "### Pretraining on source dataset\n",
    "\n",
    "for epoch in range(1, configs.num_epoch + 1):\n",
    "\n",
    "    train_loss = model_pretrain(TFC_model, model_optimizer, criterion, train_dl, configs, device, training_mode)\n",
    "\n",
    "\n",
    "os.makedirs(save_model_path, exist_ok=True)\n",
    "chkpoint = {'model_state_dict': TFC_model.state_dict()}\n",
    "torch.save(chkpoint, os.path.join(save_model_path, f'{arch}_ckp_last.pt'))"
   ]
  },
  {
   "cell_type": "code",
   "execution_count": null,
   "metadata": {},
   "outputs": [],
   "source": []
  },
  {
   "attachments": {},
   "cell_type": "markdown",
   "metadata": {},
   "source": [
    "### visualise embeddings of training set"
   ]
  },
  {
   "cell_type": "code",
   "execution_count": 24,
   "metadata": {},
   "outputs": [],
   "source": [
    "from sklearn.manifold import TSNE"
   ]
  },
  {
   "cell_type": "code",
   "execution_count": 46,
   "metadata": {},
   "outputs": [],
   "source": [
    "data, labels, aug1, data_f, aug1_f = next(iter(train_dl))"
   ]
  },
  {
   "cell_type": "code",
   "execution_count": 47,
   "metadata": {},
   "outputs": [
    {
     "data": {
      "text/plain": [
       "tensor([[[ 0.7969,  0.7969,  0.7969,  ...,  0.7969,  0.7969,  0.7969]],\n",
       "\n",
       "        [[ 0.3281,  0.3209,  0.3194,  ...,  0.3281,  0.3281,  0.3186]],\n",
       "\n",
       "        [[ 0.9844,  0.9790,  0.9688,  ...,  0.9844,  0.9844,  0.9844]],\n",
       "\n",
       "        ...,\n",
       "\n",
       "        [[-0.0770, -0.0781, -0.0781,  ..., -0.0781, -0.0696, -0.0707]],\n",
       "\n",
       "        [[-0.8959, -0.9199, -1.1699,  ..., -0.3611, -0.3042, -0.3086]],\n",
       "\n",
       "        [[ 1.0000,  1.0000,  1.0000,  ...,  1.0000,  0.9858,  0.9844]]],\n",
       "       dtype=torch.float64)"
      ]
     },
     "execution_count": 47,
     "metadata": {},
     "output_type": "execute_result"
    }
   ],
   "source": [
    "data"
   ]
  },
  {
   "cell_type": "code",
   "execution_count": 48,
   "metadata": {},
   "outputs": [],
   "source": [
    "h_t, z_t, h_f, z_f = TFC_model(data.to(torch.float32).to(device), data_f.to(torch.float32).to(device))\n",
    "fea_concat = torch.cat((z_t, z_f), dim=1)\n",
    "fea_concat = fea_concat.to('cpu').detach().numpy()"
   ]
  },
  {
   "cell_type": "code",
   "execution_count": 49,
   "metadata": {},
   "outputs": [],
   "source": [
    "X_embedded = TSNE(n_components=2, learning_rate='auto', init='random', perplexity=3).fit_transform(fea_concat)"
   ]
  },
  {
   "cell_type": "code",
   "execution_count": 50,
   "metadata": {},
   "outputs": [
    {
     "data": {
      "text/plain": [
       "<matplotlib.collections.PathCollection at 0x7f9ec8fb9e50>"
      ]
     },
     "execution_count": 50,
     "metadata": {},
     "output_type": "execute_result"
    },
    {
     "data": {
      "image/png": "[encoded data removed]",
      "text/plain": [
       "<Figure size 432x288 with 1 Axes>"
      ]
     },
     "metadata": {
      "needs_background": "light"
     },
     "output_type": "display_data"
    }
   ],
   "source": [
    "plt.scatter(X_embedded[:,0], X_embedded[:,1],c=list(labels.numpy()))"
   ]
  },
  {
   "cell_type": "code",
   "execution_count": 51,
   "metadata": {},
   "outputs": [
    {
     "data": {
      "text/plain": [
       "[<matplotlib.lines.Line2D at 0x7f9f09ffda60>]"
      ]
     },
     "execution_count": 51,
     "metadata": {},
     "output_type": "execute_result"
    },
    {
     "data": {
      "image/png": "[encoded data removed]",
      "text/plain": [
       "<Figure size 432x288 with 1 Axes>"
      ]
     },
     "metadata": {
      "needs_background": "light"
     },
     "output_type": "display_data"
    }
   ],
   "source": [
    "plt.plot(data.numpy()[92,0,:])"
   ]
  },
  {
   "cell_type": "code",
   "execution_count": 60,
   "metadata": {},
   "outputs": [],
   "source": [
    "data, labels, aug1, data_f, aug1_f = next(iter(train_dl))"
   ]
  },
  {
   "cell_type": "code",
   "execution_count": 61,
   "metadata": {},
   "outputs": [
    {
     "data": {
      "text/plain": [
       "torch.Size([128, 1, 500])"
      ]
     },
     "execution_count": 61,
     "metadata": {},
     "output_type": "execute_result"
    }
   ],
   "source": [
    "data.shape"
   ]
  },
  {
   "cell_type": "code",
   "execution_count": null,
   "metadata": {},
   "outputs": [],
   "source": []
  }
 ],
 "metadata": {
  "kernelspec": {
   "display_name": "dl_env_39",
   "language": "python",
   "name": "dl_env"
  },
  "language_info": {
   "codemirror_mode": {
    "name": "ipython",
    "version": 3
   },
   "file_extension": ".py",
   "mimetype": "text/x-python",
   "name": "python",
   "nbconvert_exporter": "python",
   "pygments_lexer": "ipython3",
   "version": "3.9.7"
  },
  "orig_nbformat": 4,
  "vscode": {
   "interpreter": {
    "hash": "d079bcb107641a1326df1bc84975df91168e37aa8e1fb79a357e0c3f937b5f74"
   }
  }
 },
 "nbformat": 4,
 "nbformat_minor": 2
}
