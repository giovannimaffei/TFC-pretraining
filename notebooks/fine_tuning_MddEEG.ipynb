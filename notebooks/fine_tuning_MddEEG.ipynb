{
 "cells": [
  {
   "cell_type": "code",
   "execution_count": 1,
   "metadata": {},
   "outputs": [],
   "source": [
    "import sys\n",
    "import os\n",
    "import matplotlib.pyplot as plt\n",
    "import numpy as np\n",
    "from sklearn.neighbors import KNeighborsClassifier\n",
    "from sklearn.metrics import roc_auc_score, classification_report, confusion_matrix, \\\n",
    "    average_precision_score, accuracy_score, precision_score,f1_score,recall_score"
   ]
  },
  {
   "cell_type": "code",
   "execution_count": null,
   "metadata": {},
   "outputs": [],
   "source": []
  },
  {
   "attachments": {},
   "cell_type": "markdown",
   "metadata": {},
   "source": [
    "NOTES\n",
    "\n",
    "pretrain on the whole SleepEEG dataset using the appropriate config. The pretrain provided is trained only on 1% of the data\n",
    "\n",
    "\n",
    "try to finetune using the parameters from SleepEEG dataset instead of Epilepsy"
   ]
  },
  {
   "attachments": {},
   "cell_type": "markdown",
   "metadata": {},
   "source": [
    "# TFC fine tuning"
   ]
  },
  {
   "cell_type": "code",
   "execution_count": 2,
   "metadata": {},
   "outputs": [],
   "source": [
    "sys.path.append('/Users/giovanni/Documents/Atai/projects/tfc_pretrain/TFC-pretraining/code/TFC/')\n",
    "sys.path.append('/Users/giovanni/Documents/Atai/projects/tfc_pretrain/TFC-pretraining/code/TFC/model')\n",
    "sys.path.append('/Users/giovanni/Documents/Atai/projects/tfc_pretrain/TFC-pretraining/code/TFC/trainer')\n",
    "sys.path.append('/Users/giovanni/Documents/Atai/projects/tfc_pretrain/TFC-pretraining/code/TFC/dataloader')\n",
    "sys.path.append('/Users/giovanni/Documents/Atai/projects/tfc_pretrain/TFC-pretraining/code/config_files/')\n",
    "sys.path.append('/Users/giovanni/Documents/Atai/projects/tfc_pretrain/TFC-pretraining/code/config_files/SleepEEG_Configs')\n",
    "sys.path.append('/Users/giovanni/Documents/Atai/projects/tfc_pretrain/TFC-pretraining/code/config_files/MddEEG_Configs')"
   ]
  },
  {
   "cell_type": "code",
   "execution_count": 3,
   "metadata": {},
   "outputs": [],
   "source": [
    "import torch\n",
    "from torch import nn\n",
    "from model import TFC, target_classifier\n",
    "from SleepEEG_Configs import Config as Configs\n",
    "# from MddEEG_Configs import Config as Configs\n",
    "from dataloader import data_generator\n",
    "from trainer import model_finetune, model_test\n"
   ]
  },
  {
   "cell_type": "code",
   "execution_count": 4,
   "metadata": {},
   "outputs": [],
   "source": [
    "def one_hot_encoding(X):\n",
    "    X = [int(x) for x in X]\n",
    "    n_values = np.max(X) + 1\n",
    "    b = np.eye(n_values)[X]\n",
    "    return b\n",
    "\n",
    "\n",
    "def model_test_knn(emb_finetune, label_finetune, emb_test, label_test):\n",
    "\n",
    "\n",
    "    neigh = KNeighborsClassifier(n_neighbors=5)\n",
    "    neigh.fit(emb_finetune, label_finetune)\n",
    "    knn_acc_train = neigh.score(emb_finetune, label_finetune)\n",
    "\n",
    "    representation_test = emb_test.detach().cpu().numpy()\n",
    "\n",
    "    knn_result = neigh.predict(representation_test)\n",
    "    knn_result_score = neigh.predict_proba(representation_test)\n",
    "    one_hot_label_test = one_hot_encoding(label_test)\n",
    "\n",
    "    knn_acc = accuracy_score(label_test, knn_result)\n",
    "    precision = precision_score(label_test, knn_result, average='macro', )\n",
    "    recall = recall_score(label_test, knn_result, average='macro', )\n",
    "    F1 = f1_score(label_test, knn_result, average='macro')\n",
    "    auc = roc_auc_score(one_hot_label_test, knn_result_score, average=\"macro\", multi_class=\"ovr\")\n",
    "    prc = average_precision_score(one_hot_label_test, knn_result_score, average=\"macro\")\n",
    "    print('KNN Testing: Acc=%.4f| Precision = %.4f | Recall = %.4f | F1 = %.4f | AUROC= %.4f | AUPRC=%.4f'%\n",
    "                  (knn_acc, precision, recall, F1, auc, prc))\n",
    "\n",
    "    return F1"
   ]
  },
  {
   "cell_type": "code",
   "execution_count": 5,
   "metadata": {},
   "outputs": [
    {
     "data": {
      "text/plain": [
       "True"
      ]
     },
     "execution_count": 5,
     "metadata": {},
     "output_type": "execute_result"
    }
   ],
   "source": [
    "torch.backends.mps.is_available()"
   ]
  },
  {
   "cell_type": "markdown",
   "metadata": {},
   "source": [
    "### define configs"
   ]
  },
  {
   "cell_type": "code",
   "execution_count": 8,
   "metadata": {},
   "outputs": [],
   "source": [
    "SEED = 42\n",
    "arch = 'sleepedf2mdd'\n",
    "load_from = '../models/SleepEEG_2_Epilepsy/pretrained/'\n",
    "sourcedata_path = '../datasets/SleepEEG/'\n",
    "targetdata_path = '../datasets/MddEEG/'\n",
    "training_mode = 'fine_tune_test'\n",
    "subset = False\n",
    "\n",
    "\n",
    "device = torch.device(\"mps\")\n",
    "configs = Configs()"
   ]
  },
  {
   "cell_type": "markdown",
   "metadata": {},
   "source": [
    "### create and load TFC model and finetuning classifier"
   ]
  },
  {
   "cell_type": "code",
   "execution_count": 9,
   "metadata": {},
   "outputs": [],
   "source": [
    "TFC_model = TFC(configs).to(device)\n",
    "chkpoint = torch.load(os.path.join(load_from, \"ckp_last.pt\"), map_location=device)\n",
    "pretrained_dict = chkpoint[\"model_state_dict\"]\n",
    "TFC_model.load_state_dict(pretrained_dict)\n",
    "\n",
    "\n",
    "classifier = target_classifier(configs).to(device)"
   ]
  },
  {
   "attachments": {},
   "cell_type": "markdown",
   "metadata": {},
   "source": [
    "### create optimizers"
   ]
  },
  {
   "cell_type": "code",
   "execution_count": 8,
   "metadata": {},
   "outputs": [],
   "source": [
    "model_optimizer = torch.optim.Adam(TFC_model.parameters(), lr=configs.lr, betas=(configs.beta1, configs.beta2), weight_decay=3e-4)\n",
    "classifier_optimizer = torch.optim.Adam(classifier.parameters(), lr=configs.lr, betas=(configs.beta1, configs.beta2), weight_decay=3e-4)\n",
    "\n",
    "criterion = nn.CrossEntropyLoss()\n",
    "scheduler = torch.optim.lr_scheduler.ReduceLROnPlateau(model_optimizer, 'min')"
   ]
  },
  {
   "attachments": {},
   "cell_type": "markdown",
   "metadata": {},
   "source": [
    "### load datasets"
   ]
  },
  {
   "cell_type": "code",
   "execution_count": 11,
   "metadata": {},
   "outputs": [],
   "source": [
    "train_dl, valid_dl, test_dl = data_generator(sourcedata_path, targetdata_path, configs, training_mode, subset=subset)"
   ]
  },
  {
   "attachments": {},
   "cell_type": "markdown",
   "metadata": {},
   "source": [
    "### finetune and test loop"
   ]
  },
  {
   "cell_type": "code",
   "execution_count": 10,
   "metadata": {},
   "outputs": [
    {
     "name": "stderr",
     "output_type": "stream",
     "text": [
      "/Users/giovanni/Documents/Atai/projects/tfc_pretrain/TFC-pretraining/code/TFC/loss.py:119: UserWarning: The operator 'aten::nonzero' is not currently supported on the MPS backend and will fall back to run on the CPU. This may have performance implications. (Triggered internally at /Users/runner/work/pytorch/pytorch/pytorch/aten/src/ATen/mps/MPSFallback.mm:11.)\n",
      "  negatives = similarity_matrix[self.mask_samples_from_same_repr].view(2 * self.batch_size, -1)\n"
     ]
    },
    {
     "name": "stdout",
     "output_type": "stream",
     "text": [
      " Finetune: loss = 6.0943| Acc=79.8442 | Precision = 87.1429 | Recall = 88.8756 | F1 = 87.7587| AUROC=92.0399 | AUPRC = 91.9687\n",
      "update fine-tuned model\n",
      "MLP Testing: Acc=73.9344| Precision = 76.7827 | Recall = 75.4621 | F1 = 73.8049 | AUROC= 83.5445 | AUPRC=83.4250\n",
      "KNN Testing: Acc=0.7140| Precision = 0.7275 | Recall = 0.7244 | F1 = 0.7138 | AUROC= 0.7947 | AUPRC=0.7569\n",
      " Finetune: loss = 4.3027| Acc=87.2629 | Precision = 79.4613 | Recall = 80.0000 | F1 = 79.6380| AUROC=94.8972 | AUPRC = 95.0069\n",
      "MLP Testing: Acc=73.8951| Precision = 76.7334 | Recall = 75.4203 | F1 = 73.7661 | AUROC= 83.7782 | AUPRC=83.5990\n",
      "KNN Testing: Acc=0.7056| Precision = 0.7467 | Recall = 0.7243 | F1 = 0.7021 | AUROC= 0.7918 | AUPRC=0.7511\n",
      " Finetune: loss = 4.3283| Acc=87.3306 | Precision = 84.7222 | Recall = 83.3333 | F1 = 83.1650| AUROC=94.9230 | AUPRC = 95.0297\n",
      "MLP Testing: Acc=73.3648| Precision = 76.2601 | Recall = 74.9088 | F1 = 73.2241 | AUROC= 83.5547 | AUPRC=83.4387\n",
      "KNN Testing: Acc=0.7146| Precision = 0.7561 | Recall = 0.7333 | F1 = 0.7114 | AUROC= 0.7938 | AUPRC=0.7531\n",
      " Finetune: loss = 4.3180| Acc=87.3509 | Precision = 80.0000 | Recall = 80.0000 | F1 = 80.0000| AUROC=94.8471 | AUPRC = 94.9638\n",
      "MLP Testing: Acc=73.9639| Precision = 76.9102 | Recall = 75.5174 | F1 = 73.8252 | AUROC= 83.8272 | AUPRC=83.6260\n",
      "KNN Testing: Acc=0.6963| Precision = 0.7406 | Recall = 0.7159 | F1 = 0.6922 | AUROC= 0.7809 | AUPRC=0.7409\n",
      " Finetune: loss = 4.3394| Acc=86.9512 | Precision = 81.7019 | Recall = 81.6667 | F1 = 81.6616| AUROC=94.7972 | AUPRC = 94.8610\n",
      "MLP Testing: Acc=73.9148| Precision = 76.8077 | Recall = 75.4545 | F1 = 73.7807 | AUROC= 83.6780 | AUPRC=83.6237\n",
      "KNN Testing: Acc=0.6986| Precision = 0.7430 | Recall = 0.7181 | F1 = 0.6945 | AUROC= 0.7823 | AUPRC=0.7418\n",
      " Finetune: loss = 4.3296| Acc=87.1612 | Precision = 83.9367 | Recall = 83.3333 | F1 = 83.2589| AUROC=94.7586 | AUPRC = 94.8491\n",
      "MLP Testing: Acc=73.5710| Precision = 76.4914 | Recall = 75.1204 | F1 = 73.4303 | AUROC= 83.7691 | AUPRC=83.7244\n",
      "KNN Testing: Acc=0.7033| Precision = 0.7410 | Recall = 0.7213 | F1 = 0.7003 | AUROC= 0.7920 | AUPRC=0.7509\n",
      " Finetune: loss = 4.3345| Acc=87.1409 | Precision = 89.2534 | Recall = 88.5984 | F1 = 88.3041| AUROC=94.9327 | AUPRC = 95.0711\n",
      "update fine-tuned model\n",
      "MLP Testing: Acc=73.7380| Precision = 76.5663 | Recall = 75.2615 | F1 = 73.6082 | AUROC= 83.1450 | AUPRC=83.1154\n",
      "KNN Testing: Acc=0.7065| Precision = 0.7386 | Recall = 0.7230 | F1 = 0.7044 | AUROC= 0.7876 | AUPRC=0.7483\n",
      " Finetune: loss = 3.7211| Acc=87.8455 | Precision = 90.2468 | Recall = 89.1429 | F1 = 89.5833| AUROC=94.9241 | AUPRC = 95.0067\n",
      "update fine-tuned model\n",
      "MLP Testing: Acc=73.6594| Precision = 75.3379 | Recall = 74.8258 | F1 = 73.6253 | AUROC= 83.0226 | AUPRC=83.3081\n",
      "KNN Testing: Acc=0.7112| Precision = 0.7403 | Recall = 0.7268 | F1 = 0.7094 | AUROC= 0.7970 | AUPRC=0.7565\n",
      " Finetune: loss = 3.5022| Acc=88.1369 | Precision = 90.2715 | Recall = 89.7321 | F1 = 89.8990| AUROC=95.1292 | AUPRC = 95.1732\n",
      "update fine-tuned model\n",
      "MLP Testing: Acc=74.1112| Precision = 76.2898 | Recall = 75.4442 | F1 = 74.0424 | AUROC= 81.5590 | AUPRC=81.3749\n",
      "KNN Testing: Acc=0.7159| Precision = 0.7436 | Recall = 0.7311 | F1 = 0.7144 | AUROC= 0.7909 | AUPRC=0.7503\n",
      " Finetune: loss = 3.3183| Acc=88.0014 | Precision = 90.0000 | Recall = 90.1786 | F1 = 89.9889| AUROC=95.0991 | AUPRC = 95.1450\n",
      "update fine-tuned model\n",
      "MLP Testing: Acc=73.9049| Precision = 75.6635 | Recall = 75.0996 | F1 = 73.8664 | AUROC= 81.4098 | AUPRC=81.1869\n",
      "KNN Testing: Acc=0.7066| Precision = 0.7334 | Recall = 0.7217 | F1 = 0.7051 | AUROC= 0.7812 | AUPRC=0.7392\n",
      " Finetune: loss = 3.1609| Acc=88.1369 | Precision = 77.0335 | Recall = 75.5656 | F1 = 73.2143| AUROC=95.0862 | AUPRC = 95.2448\n",
      "MLP Testing: Acc=73.6201| Precision = 75.3953 | Recall = 74.8209 | F1 = 73.5793 | AUROC= 81.2848 | AUPRC=80.9943\n",
      "KNN Testing: Acc=0.7174| Precision = 0.7477 | Recall = 0.7334 | F1 = 0.7157 | AUROC= 0.7955 | AUPRC=0.7535\n",
      " Finetune: loss = 3.1464| Acc=88.3604 | Precision = 93.1034 | Recall = 94.2857 | F1 = 93.2660| AUROC=95.0862 | AUPRC = 95.2358\n",
      "update fine-tuned model\n",
      "MLP Testing: Acc=73.9049| Precision = 75.8432 | Recall = 75.1610 | F1 = 73.8536 | AUROC= 81.1876 | AUPRC=80.8864\n",
      "KNN Testing: Acc=0.7204| Precision = 0.7470 | Recall = 0.7353 | F1 = 0.7191 | AUROC= 0.7948 | AUPRC=0.7523\n",
      " Finetune: loss = 3.0368| Acc=88.5637 | Precision = 87.5000 | Recall = 88.0729 | F1 = 87.7587| AUROC=95.4261 | AUPRC = 95.5510\n",
      "MLP Testing: Acc=73.3844| Precision = 75.3794 | Recall = 74.6605 | F1 = 73.3261 | AUROC= 81.0617 | AUPRC=80.6892\n",
      "KNN Testing: Acc=0.7248| Precision = 0.7543 | Recall = 0.7405 | F1 = 0.7232 | AUROC= 0.7944 | AUPRC=0.7521\n",
      " Finetune: loss = 3.0299| Acc=88.2588 | Precision = 82.3737 | Recall = 82.3737 | F1 = 82.3737| AUROC=95.2823 | AUPRC = 95.4321\n",
      "MLP Testing: Acc=73.8362| Precision = 75.7872 | Recall = 75.0966 | F1 = 73.7836 | AUROC= 81.2993 | AUPRC=80.9226\n",
      "KNN Testing: Acc=0.7207| Precision = 0.7485 | Recall = 0.7359 | F1 = 0.7192 | AUROC= 0.7944 | AUPRC=0.7520\n",
      " Finetune: loss = 3.0209| Acc=88.4417 | Precision = 91.5179 | Recall = 91.7508 | F1 = 91.6084| AUROC=95.3797 | AUPRC = 95.5375\n",
      "MLP Testing: Acc=73.7281| Precision = 75.5931 | Recall = 74.9598 | F1 = 73.6814 | AUROC= 81.0912 | AUPRC=80.8276\n",
      "KNN Testing: Acc=0.7203| Precision = 0.7496 | Recall = 0.7359 | F1 = 0.7187 | AUROC= 0.7947 | AUPRC=0.7522\n",
      " Finetune: loss = 3.0313| Acc=88.4892 | Precision = 94.2857 | Recall = 93.1034 | F1 = 93.2660| AUROC=95.3316 | AUPRC = 95.4669\n",
      "MLP Testing: Acc=73.8067| Precision = 75.6926 | Recall = 75.0453 | F1 = 73.7588 | AUROC= 81.2212 | AUPRC=80.9566\n",
      "KNN Testing: Acc=0.7231| Precision = 0.7500 | Recall = 0.7381 | F1 = 0.7218 | AUROC= 0.7965 | AUPRC=0.7538\n",
      " Finetune: loss = 3.0303| Acc=88.3266 | Precision = 85.3480 | Recall = 85.3480 | F1 = 85.3480| AUROC=95.3219 | AUPRC = 95.4498\n",
      "MLP Testing: Acc=73.6496| Precision = 75.5538 | Recall = 74.8947 | F1 = 73.5996 | AUROC= 81.3501 | AUPRC=81.0966\n",
      "KNN Testing: Acc=0.7197| Precision = 0.7494 | Recall = 0.7354 | F1 = 0.7180 | AUROC= 0.7947 | AUPRC=0.7521\n",
      " Finetune: loss = 3.0311| Acc=88.6585 | Precision = 86.6667 | Recall = 86.6667 | F1 = 86.6667| AUROC=95.2879 | AUPRC = 95.4325\n",
      "MLP Testing: Acc=73.7183| Precision = 75.5979 | Recall = 74.9550 | F1 = 73.6705 | AUROC= 81.2501 | AUPRC=80.8421\n",
      "KNN Testing: Acc=0.7188| Precision = 0.7478 | Recall = 0.7344 | F1 = 0.7172 | AUROC= 0.7957 | AUPRC=0.7532\n",
      " Finetune: loss = 3.0379| Acc=88.1436 | Precision = 81.4732 | Recall = 81.6498 | F1 = 81.5385| AUROC=95.2504 | AUPRC = 95.4128\n",
      "MLP Testing: Acc=73.6594| Precision = 75.5068 | Recall = 74.8852 | F1 = 73.6136 | AUROC= 81.1718 | AUPRC=80.7933\n",
      "KNN Testing: Acc=0.7208| Precision = 0.7485 | Recall = 0.7360 | F1 = 0.7194 | AUROC= 0.7960 | AUPRC=0.7543\n",
      " Finetune: loss = 3.0387| Acc=88.5908 | Precision = 86.1607 | Recall = 87.5000 | F1 = 86.4253| AUROC=95.4271 | AUPRC = 95.5836\n",
      "MLP Testing: Acc=73.6692| Precision = 75.5260 | Recall = 74.8982 | F1 = 73.6228 | AUROC= 81.1811 | AUPRC=80.9592\n",
      "KNN Testing: Acc=0.7184| Precision = 0.7463 | Recall = 0.7337 | F1 = 0.7169 | AUROC= 0.7912 | AUPRC=0.7488\n",
      " Finetune: loss = 3.0414| Acc=88.2791 | Precision = 84.9548 | Recall = 84.6801 | F1 = 84.7930| AUROC=95.3405 | AUPRC = 95.4933\n",
      "MLP Testing: Acc=73.6005| Precision = 75.5059 | Recall = 74.8461 | F1 = 73.5502 | AUROC= 81.1695 | AUPRC=80.8057\n",
      "KNN Testing: Acc=0.7190| Precision = 0.7473 | Recall = 0.7344 | F1 = 0.7175 | AUROC= 0.7968 | AUPRC=0.7547\n",
      " Finetune: loss = 3.0294| Acc=88.5434 | Precision = 89.5089 | Recall = 90.9722 | F1 = 89.8190| AUROC=95.2874 | AUPRC = 95.4143\n",
      "MLP Testing: Acc=73.5808| Precision = 75.4494 | Recall = 74.8140 | F1 = 73.5332 | AUROC= 81.1374 | AUPRC=80.8101\n",
      "KNN Testing: Acc=0.7234| Precision = 0.7515 | Recall = 0.7387 | F1 = 0.7220 | AUROC= 0.7984 | AUPRC=0.7558\n",
      " Finetune: loss = 3.0284| Acc=88.1978 | Precision = 86.1111 | Recall = 86.1111 | F1 = 86.1111| AUROC=95.2651 | AUPRC = 95.4201\n",
      "MLP Testing: Acc=73.5219| Precision = 75.4183 | Recall = 74.7646 | F1 = 73.4719 | AUROC= 81.2325 | AUPRC=80.8849\n",
      "KNN Testing: Acc=0.7250| Precision = 0.7511 | Recall = 0.7397 | F1 = 0.7238 | AUROC= 0.7959 | AUPRC=0.7533\n",
      " Finetune: loss = 3.0350| Acc=88.4688 | Precision = 88.7097 | Recall = 90.2778 | F1 = 88.2517| AUROC=95.3815 | AUPRC = 95.5279\n",
      "MLP Testing: Acc=73.8755| Precision = 75.9090 | Recall = 75.1629 | F1 = 73.8168 | AUROC= 81.0765 | AUPRC=80.7767\n",
      "KNN Testing: Acc=0.7197| Precision = 0.7493 | Recall = 0.7354 | F1 = 0.7180 | AUROC= 0.7952 | AUPRC=0.7529\n",
      " Finetune: loss = 3.0345| Acc=88.4892 | Precision = 88.1696 | Recall = 88.3838 | F1 = 88.2517| AUROC=95.3787 | AUPRC = 95.5704\n",
      "MLP Testing: Acc=73.5808| Precision = 75.4314 | Recall = 74.8078 | F1 = 73.5345 | AUROC= 81.2768 | AUPRC=80.9997\n",
      "KNN Testing: Acc=0.7142| Precision = 0.7427 | Recall = 0.7297 | F1 = 0.7126 | AUROC= 0.7966 | AUPRC=0.7547\n",
      " Finetune: loss = 3.0294| Acc=88.5230 | Precision = 78.8484 | Recall = 78.8484 | F1 = 78.8484| AUROC=95.3471 | AUPRC = 95.5355\n",
      "MLP Testing: Acc=73.5710| Precision = 75.4844 | Recall = 74.8194 | F1 = 73.5200 | AUROC= 81.0801 | AUPRC=80.8897\n",
      "KNN Testing: Acc=0.7159| Precision = 0.7446 | Recall = 0.7314 | F1 = 0.7143 | AUROC= 0.7953 | AUPRC=0.7535\n",
      " Finetune: loss = 3.0476| Acc=88.6517 | Precision = 89.7059 | Recall = 89.3939 | F1 = 88.3301| AUROC=95.4506 | AUPRC = 95.6295\n",
      "MLP Testing: Acc=73.6987| Precision = 75.6444 | Recall = 74.9576 | F1 = 73.6458 | AUROC= 81.2368 | AUPRC=81.0136\n",
      "KNN Testing: Acc=0.7174| Precision = 0.7449 | Recall = 0.7326 | F1 = 0.7160 | AUROC= 0.7923 | AUPRC=0.7500\n",
      " Finetune: loss = 3.0483| Acc=88.6924 | Precision = 85.0764 | Recall = 86.4469 | F1 = 85.6459| AUROC=95.5004 | AUPRC = 95.6731\n",
      "MLP Testing: Acc=73.6594| Precision = 75.5489 | Recall = 74.8995 | F1 = 73.6106 | AUROC= 81.2259 | AUPRC=80.8365\n",
      "KNN Testing: Acc=0.7221| Precision = 0.7495 | Recall = 0.7372 | F1 = 0.7207 | AUROC= 0.7978 | AUPRC=0.7554\n",
      " Finetune: loss = 3.0451| Acc=88.5637 | Precision = 83.9286 | Recall = 89.0244 | F1 = 84.2611| AUROC=95.4434 | AUPRC = 95.6053\n",
      "MLP Testing: Acc=73.5710| Precision = 75.4183 | Recall = 74.7969 | F1 = 73.5249 | AUROC= 80.9741 | AUPRC=80.7041\n",
      "KNN Testing: Acc=0.7207| Precision = 0.7483 | Recall = 0.7358 | F1 = 0.7193 | AUROC= 0.7905 | AUPRC=0.7485\n",
      " Finetune: loss = 3.0525| Acc=88.4824 | Precision = 90.9722 | Recall = 91.5981 | F1 = 91.2562| AUROC=95.4598 | AUPRC = 95.6522\n",
      "MLP Testing: Acc=73.6496| Precision = 75.6026 | Recall = 74.9111 | F1 = 73.5959 | AUROC= 81.1161 | AUPRC=80.8650\n",
      "KNN Testing: Acc=0.7196| Precision = 0.7469 | Recall = 0.7347 | F1 = 0.7182 | AUROC= 0.7970 | AUPRC=0.7545\n",
      " Finetune: loss = 3.0499| Acc=88.5569 | Precision = 92.3611 | Recall = 91.0774 | F1 = 91.4749| AUROC=95.6002 | AUPRC = 95.7280\n",
      "MLP Testing: Acc=73.6790| Precision = 75.6672 | Recall = 74.9521 | F1 = 73.6228 | AUROC= 81.1535 | AUPRC=80.8757\n",
      "KNN Testing: Acc=0.7174| Precision = 0.7452 | Recall = 0.7327 | F1 = 0.7160 | AUROC= 0.7920 | AUPRC=0.7500\n",
      " Finetune: loss = 3.0442| Acc=88.8144 | Precision = 87.5441 | Recall = 85.8586 | F1 = 86.2857| AUROC=95.4514 | AUPRC = 95.6144\n",
      "MLP Testing: Acc=73.6594| Precision = 75.5670 | Recall = 74.9057 | F1 = 73.6092 | AUROC= 81.1097 | AUPRC=80.7420\n",
      "KNN Testing: Acc=0.7177| Precision = 0.7453 | Recall = 0.7329 | F1 = 0.7163 | AUROC= 0.7946 | AUPRC=0.7531\n",
      " Finetune: loss = 3.0496| Acc=88.2995 | Precision = 71.7143 | Recall = 76.9886 | F1 = 72.2136| AUROC=95.4147 | AUPRC = 95.5651\n",
      "MLP Testing: Acc=73.7183| Precision = 75.6833 | Recall = 74.9836 | F1 = 73.6641 | AUROC= 81.0455 | AUPRC=80.7160\n",
      "KNN Testing: Acc=0.7206| Precision = 0.7495 | Recall = 0.7361 | F1 = 0.7190 | AUROC= 0.7953 | AUPRC=0.7525\n",
      " Finetune: loss = 3.0456| Acc=88.7940 | Precision = 88.9140 | Recall = 91.1483 | F1 = 89.5833| AUROC=95.5183 | AUPRC = 95.6760\n",
      "MLP Testing: Acc=73.7380| Precision = 75.6183 | Recall = 74.9748 | F1 = 73.6902 | AUROC= 80.9990 | AUPRC=80.6624\n",
      "KNN Testing: Acc=0.7204| Precision = 0.7489 | Recall = 0.7358 | F1 = 0.7189 | AUROC= 0.7922 | AUPRC=0.7495\n",
      " Finetune: loss = 3.0506| Acc=88.6179 | Precision = 89.8190 | Recall = 89.8190 | F1 = 89.8190| AUROC=95.4303 | AUPRC = 95.5576\n",
      "MLP Testing: Acc=73.5514| Precision = 75.5006 | Recall = 74.8118 | F1 = 73.4975 | AUROC= 81.1372 | AUPRC=80.8224\n",
      "KNN Testing: Acc=0.7204| Precision = 0.7490 | Recall = 0.7358 | F1 = 0.7189 | AUROC= 0.7980 | AUPRC=0.7558\n",
      " Finetune: loss = 3.0540| Acc=88.4146 | Precision = 91.4141 | Recall = 91.7421 | F1 = 91.5517| AUROC=95.5250 | AUPRC = 95.6834\n",
      "MLP Testing: Acc=73.8264| Precision = 75.7494 | Recall = 75.0775 | F1 = 73.7758 | AUROC= 81.2664 | AUPRC=80.8352\n",
      "KNN Testing: Acc=0.7183| Precision = 0.7453 | Recall = 0.7333 | F1 = 0.7169 | AUROC= 0.7958 | AUPRC=0.7536\n",
      " Finetune: loss = 3.0510| Acc=88.6450 | Precision = 88.8571 | Recall = 87.9464 | F1 = 88.1723| AUROC=95.4275 | AUPRC = 95.5715\n",
      "MLP Testing: Acc=73.6103| Precision = 75.5435 | Recall = 74.8652 | F1 = 73.5580 | AUROC= 81.4224 | AUPRC=81.2343\n",
      "KNN Testing: Acc=0.7217| Precision = 0.7492 | Recall = 0.7368 | F1 = 0.7203 | AUROC= 0.7933 | AUPRC=0.7514\n",
      " Finetune: loss = 3.0716| Acc=88.8144 | Precision = 88.2857 | Recall = 87.8959 | F1 = 88.0648| AUROC=95.4823 | AUPRC = 95.6409\n",
      "MLP Testing: Acc=73.4335| Precision = 75.2877 | Recall = 74.6620 | F1 = 73.3863 | AUROC= 81.2734 | AUPRC=80.9518\n",
      "KNN Testing: Acc=0.7182| Precision = 0.7458 | Recall = 0.7334 | F1 = 0.7168 | AUROC= 0.7957 | AUPRC=0.7533\n",
      " Finetune: loss = 3.0748| Acc=88.5569 | Precision = 82.5792 | Recall = 83.3333 | F1 = 82.8571| AUROC=95.4735 | AUPRC = 95.6224\n",
      "MLP Testing: Acc=73.4237| Precision = 75.2567 | Recall = 74.6449 | F1 = 73.3780 | AUROC= 81.2050 | AUPRC=80.9850\n",
      "KNN Testing: Acc=0.7220| Precision = 0.7498 | Recall = 0.7372 | F1 = 0.7205 | AUROC= 0.7969 | AUPRC=0.7545\n",
      " Finetune: loss = 3.0780| Acc=88.5027 | Precision = 83.7250 | Recall = 84.3301 | F1 = 84.0000| AUROC=95.3801 | AUPRC = 95.5533\n",
      "MLP Testing: Acc=73.6790| Precision = 75.5632 | Recall = 74.9173 | F1 = 73.6307 | AUROC= 81.1616 | AUPRC=80.8745\n",
      "KNN Testing: Acc=0.7199| Precision = 0.7494 | Recall = 0.7356 | F1 = 0.7183 | AUROC= 0.7976 | AUPRC=0.7551\n"
     ]
    }
   ],
   "source": [
    "performance_list = []\n",
    "total_f1 = []\n",
    "KNN_f1 = []\n",
    "\n",
    "\n",
    "for epoch in range(1, configs.num_epoch + 1):\n",
    "    valid_loss, emb_finetune, label_finetune, F1 = model_finetune(TFC_model, model_optimizer, \n",
    "                                                                valid_dl, configs, device, training_mode, \n",
    "                                                                classifier, classifier_optimizer)\n",
    "\n",
    "    scheduler.step(valid_loss)\n",
    "\n",
    "\n",
    "            \n",
    "    if len(total_f1) == 0 or F1 > max(total_f1):\n",
    "        print('update fine-tuned model')\n",
    "        os.makedirs('experiments_logs/finetunemodel/', exist_ok=True)\n",
    "        torch.save(TFC_model.state_dict(), 'experiments_logs/finetunemodel/' + arch + '_model.pt')\n",
    "        torch.save(classifier.state_dict(), 'experiments_logs/finetunemodel/' + arch + '_classifier.pt')\n",
    "    \n",
    "    \n",
    "    total_f1.append(F1)\n",
    "\n",
    "\n",
    "    TFC_model.load_state_dict(torch.load('experiments_logs/finetunemodel/' + arch + '_model.pt'))\n",
    "    classifier.load_state_dict(torch.load('experiments_logs/finetunemodel/' + arch + '_classifier.pt'))\n",
    "    \n",
    "    test_loss, test_acc, test_auc, test_prc, emb_test, label_test, performance = model_test(TFC_model, test_dl, configs, device, training_mode,\n",
    "                                                             classifier=classifier, classifier_optimizer=classifier_optimizer)\n",
    "    \n",
    "    F1_knn = model_test_knn(emb_finetune, label_finetune, emb_test, label_test)\n",
    "    KNN_f1.append(F1_knn)\n",
    "    \n",
    "    performance_list.append(performance)\n",
    "\n",
    "\n",
    "    # break\n"
   ]
  },
  {
   "cell_type": "code",
   "execution_count": 11,
   "metadata": {},
   "outputs": [
    {
     "name": "stdout",
     "output_type": "stream",
     "text": [
      "Best Testing Performance: Acc=73.9639| Precision = 76.9102 | Recall = 75.5174 | F1 = 73.8252 | AUROC= 83.8272 | AUPRC=83.6260\n"
     ]
    }
   ],
   "source": [
    "performance_array = np.array(performance_list)\n",
    "best_performance = performance_array[np.argmax(performance_array[:,-2], axis=0)]\n",
    "\n",
    "print('Best Testing Performance: Acc=%.4f| Precision = %.4f | Recall = %.4f | F1 = %.4f | AUROC= %.4f '\n",
    "              '| AUPRC=%.4f' % (best_performance[0], best_performance[1], best_performance[2], best_performance[3],\n",
    "                                best_performance[4], best_performance[5]))"
   ]
  },
  {
   "cell_type": "code",
   "execution_count": null,
   "metadata": {},
   "outputs": [],
   "source": []
  },
  {
   "attachments": {},
   "cell_type": "markdown",
   "metadata": {},
   "source": [
    "### visualise embeddings of test set"
   ]
  },
  {
   "cell_type": "code",
   "execution_count": 12,
   "metadata": {},
   "outputs": [],
   "source": [
    "from sklearn.manifold import TSNE"
   ]
  },
  {
   "cell_type": "code",
   "execution_count": 13,
   "metadata": {},
   "outputs": [],
   "source": [
    "data, labels, aug1, data_f, aug1_f = next(iter(test_dl))"
   ]
  },
  {
   "cell_type": "code",
   "execution_count": 14,
   "metadata": {},
   "outputs": [
    {
     "data": {
      "text/plain": [
       "<All keys matched successfully>"
      ]
     },
     "execution_count": 14,
     "metadata": {},
     "output_type": "execute_result"
    }
   ],
   "source": [
    "TFC_model = TFC(configs).to(device)\n",
    "TFC_model.load_state_dict(torch.load('experiments_logs/finetunemodel/' + arch + '_model.pt'))"
   ]
  },
  {
   "cell_type": "code",
   "execution_count": 15,
   "metadata": {},
   "outputs": [],
   "source": [
    "h_t, z_t, h_f, z_f = TFC_model(data.to(torch.float32).to(device), data_f.to(torch.float32).to(device))\n",
    "fea_concat = torch.cat((z_t, z_f), dim=1)\n",
    "fea_concat = fea_concat.to('cpu').detach().numpy()"
   ]
  },
  {
   "cell_type": "code",
   "execution_count": 16,
   "metadata": {},
   "outputs": [],
   "source": [
    "X_embedded = TSNE(n_components=2, learning_rate='auto', init='random', perplexity=3).fit_transform(fea_concat)"
   ]
  },
  {
   "cell_type": "code",
   "execution_count": 17,
   "metadata": {},
   "outputs": [
    {
     "data": {
      "text/plain": [
       "<matplotlib.collections.PathCollection at 0x7fc8a94e5ca0>"
      ]
     },
     "execution_count": 17,
     "metadata": {},
     "output_type": "execute_result"
    },
    {
     "data": {
      "image/png": "[encoded data removed]",
      "text/plain": [
       "<Figure size 432x288 with 1 Axes>"
      ]
     },
     "metadata": {
      "needs_background": "light"
     },
     "output_type": "display_data"
    }
   ],
   "source": [
    "plt.scatter(X_embedded[:,0], X_embedded[:,1],c=list(labels.numpy()))"
   ]
  },
  {
   "cell_type": "code",
   "execution_count": null,
   "metadata": {},
   "outputs": [],
   "source": []
  }
 ],
 "metadata": {
  "kernelspec": {
   "display_name": "dl_env_39",
   "language": "python",
   "name": "dl_env"
  },
  "language_info": {
   "codemirror_mode": {
    "name": "ipython",
    "version": 3
   },
   "file_extension": ".py",
   "mimetype": "text/x-python",
   "name": "python",
   "nbconvert_exporter": "python",
   "pygments_lexer": "ipython3",
   "version": "3.9.7"
  },
  "orig_nbformat": 4,
  "vscode": {
   "interpreter": {
    "hash": "d079bcb107641a1326df1bc84975df91168e37aa8e1fb79a357e0c3f937b5f74"
   }
  }
 },
 "nbformat": 4,
 "nbformat_minor": 2
}
