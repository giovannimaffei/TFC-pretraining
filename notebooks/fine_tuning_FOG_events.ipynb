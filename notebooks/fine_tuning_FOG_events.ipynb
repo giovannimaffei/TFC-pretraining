{
 "cells": [
  {
   "cell_type": "code",
   "execution_count": 1,
   "metadata": {},
   "outputs": [],
   "source": [
    "import sys\n",
    "import os\n",
    "import matplotlib.pyplot as plt\n",
    "import numpy as np\n",
    "from sklearn.neighbors import KNeighborsClassifier\n",
    "from sklearn.metrics import roc_auc_score, classification_report, confusion_matrix, \\\n",
    "    average_precision_score, accuracy_score, precision_score,f1_score,recall_score"
   ]
  },
  {
   "attachments": {},
   "cell_type": "markdown",
   "metadata": {},
   "source": [
    "# TFC fine tuning"
   ]
  },
  {
   "cell_type": "code",
   "execution_count": 2,
   "metadata": {},
   "outputs": [],
   "source": [
    "sys.path.append('/Users/giovanni/Documents/Atai/projects/tfc_pretrain/TFC-pretraining/code/TFC/')\n",
    "sys.path.append('/Users/giovanni/Documents/Atai/projects/tfc_pretrain/TFC-pretraining/code/TFC/model')\n",
    "sys.path.append('/Users/giovanni/Documents/Atai/projects/tfc_pretrain/TFC-pretraining/code/TFC/trainer')\n",
    "sys.path.append('/Users/giovanni/Documents/Atai/projects/tfc_pretrain/TFC-pretraining/code/TFC/dataloader')\n",
    "sys.path.append('/Users/giovanni/Documents/Atai/projects/tfc_pretrain/TFC-pretraining/code/config_files/')\n",
    "sys.path.append('/Users/giovanni/Documents/Atai/projects/tfc_pretrain/TFC-pretraining/code/config_files/SleepEEG_Configs')\n",
    "sys.path.append('/Users/giovanni/Documents/Atai/projects/tfc_pretrain/TFC-pretraining/code/config_files/FOG_Configs')"
   ]
  },
  {
   "cell_type": "code",
   "execution_count": 3,
   "metadata": {},
   "outputs": [],
   "source": [
    "import torch\n",
    "from torch import nn\n",
    "from model import TFC, target_classifier\n",
    "from FOG_Configs import Config as Configs\n",
    "# from MddEEG_Configs import Config as Configs\n",
    "from dataloader import data_generator\n",
    "from trainer import model_finetune, model_test\n"
   ]
  },
  {
   "cell_type": "code",
   "execution_count": 4,
   "metadata": {},
   "outputs": [],
   "source": [
    "def one_hot_encoding(X):\n",
    "    X = [int(x) for x in X]\n",
    "    n_values = np.max(X) + 1\n",
    "    b = np.eye(n_values)[X]\n",
    "    return b\n",
    "\n",
    "\n",
    "def model_test_knn(emb_finetune, label_finetune, emb_test, label_test):\n",
    "\n",
    "\n",
    "    neigh = KNeighborsClassifier(n_neighbors=5)\n",
    "    neigh.fit(emb_finetune, label_finetune)\n",
    "    knn_acc_train = neigh.score(emb_finetune, label_finetune)\n",
    "\n",
    "    representation_test = emb_test.detach().cpu().numpy()\n",
    "\n",
    "    knn_result = neigh.predict(representation_test)\n",
    "    knn_result_score = neigh.predict_proba(representation_test)\n",
    "    one_hot_label_test = one_hot_encoding(label_test)\n",
    "\n",
    "    knn_acc = accuracy_score(label_test, knn_result)\n",
    "    precision = precision_score(label_test, knn_result, average='macro', )\n",
    "    recall = recall_score(label_test, knn_result, average='macro', )\n",
    "    F1 = f1_score(label_test, knn_result, average='macro')\n",
    "    auc = roc_auc_score(one_hot_label_test, knn_result_score, average=\"macro\", multi_class=\"ovr\")\n",
    "    prc = average_precision_score(one_hot_label_test, knn_result_score, average=\"macro\")\n",
    "    print('KNN Testing: Acc=%.4f| Precision = %.4f | Recall = %.4f | F1 = %.4f | AUROC= %.4f | AUPRC=%.4f'%\n",
    "                  (knn_acc, precision, recall, F1, auc, prc))\n",
    "\n",
    "    return F1"
   ]
  },
  {
   "cell_type": "code",
   "execution_count": 5,
   "metadata": {},
   "outputs": [
    {
     "data": {
      "text/plain": [
       "True"
      ]
     },
     "execution_count": 5,
     "metadata": {},
     "output_type": "execute_result"
    }
   ],
   "source": [
    "torch.backends.mps.is_available()"
   ]
  },
  {
   "cell_type": "markdown",
   "metadata": {},
   "source": [
    "### define configs"
   ]
  },
  {
   "cell_type": "code",
   "execution_count": 6,
   "metadata": {},
   "outputs": [],
   "source": [
    "SEED = 42\n",
    "arch = 'sleepedf2mdd'\n",
    "load_from = 'experiment_logs/pretrainmodel/FOG_ckp_last.pt'\n",
    "sourcedata_path = '../datasets/FOG_pretrain/'\n",
    "targetdata_path = '../datasets/FOG_events/'\n",
    "training_mode = 'fine_tune_test'\n",
    "subset = False\n",
    "\n",
    "\n",
    "device = torch.device(\"mps\")\n",
    "configs = Configs()"
   ]
  },
  {
   "cell_type": "markdown",
   "metadata": {},
   "source": [
    "### create and load TFC model and finetuning classifier"
   ]
  },
  {
   "cell_type": "code",
   "execution_count": 7,
   "metadata": {},
   "outputs": [],
   "source": [
    "TFC_model = TFC(configs).to(device)\n",
    "chkpoint = torch.load(load_from, map_location=device)\n",
    "pretrained_dict = chkpoint[\"model_state_dict\"]\n",
    "TFC_model.load_state_dict(pretrained_dict)\n",
    "\n",
    "\n",
    "classifier = target_classifier(configs).to(device)"
   ]
  },
  {
   "attachments": {},
   "cell_type": "markdown",
   "metadata": {},
   "source": [
    "### create optimizers"
   ]
  },
  {
   "cell_type": "code",
   "execution_count": 8,
   "metadata": {},
   "outputs": [],
   "source": [
    "model_optimizer = torch.optim.Adam(TFC_model.parameters(), lr=configs.lr, betas=(configs.beta1, configs.beta2), weight_decay=3e-4)\n",
    "classifier_optimizer = torch.optim.Adam(classifier.parameters(), lr=configs.lr, betas=(configs.beta1, configs.beta2), weight_decay=3e-4)\n",
    "\n",
    "criterion = nn.CrossEntropyLoss()\n",
    "scheduler = torch.optim.lr_scheduler.ReduceLROnPlateau(model_optimizer, 'min')"
   ]
  },
  {
   "cell_type": "code",
   "execution_count": 9,
   "metadata": {},
   "outputs": [],
   "source": [
    "test = torch.load('../datasets/FOG_events/test.pt')\n",
    "train = torch.load('../datasets/FOG_events/train.pt')"
   ]
  },
  {
   "attachments": {},
   "cell_type": "markdown",
   "metadata": {},
   "source": [
    "### load datasets"
   ]
  },
  {
   "cell_type": "code",
   "execution_count": 10,
   "metadata": {},
   "outputs": [],
   "source": [
    "train_dl, valid_dl, test_dl = data_generator(sourcedata_path, targetdata_path, configs, training_mode, subset=subset)"
   ]
  },
  {
   "cell_type": "code",
   "execution_count": 11,
   "metadata": {},
   "outputs": [],
   "source": [
    "data, labels, aug1, data_f, aug1_f = next(iter(test_dl))"
   ]
  },
  {
   "cell_type": "code",
   "execution_count": 12,
   "metadata": {},
   "outputs": [
    {
     "data": {
      "text/plain": [
       "[<matplotlib.lines.Line2D at 0x7f7fa8161430>]"
      ]
     },
     "execution_count": 12,
     "metadata": {},
     "output_type": "execute_result"
    },
    {
     "data": {
      "image/png": "[encoded data removed]",
      "text/plain": [
       "<Figure size 432x288 with 1 Axes>"
      ]
     },
     "metadata": {
      "needs_background": "light"
     },
     "output_type": "display_data"
    }
   ],
   "source": [
    "plt.plot(data.numpy()[0,0,:])"
   ]
  },
  {
   "cell_type": "code",
   "execution_count": 13,
   "metadata": {},
   "outputs": [
    {
     "data": {
      "text/plain": [
       "tensor([1, 1, 1, 1, 1, 1, 1, 1, 1, 1, 1, 1, 1, 0, 1, 1, 1, 1, 0, 0, 1, 1, 1, 0,\n",
       "        0, 1, 1, 1, 1, 1, 1, 1, 0, 1, 1, 1, 1, 1, 1, 1, 1, 1],\n",
       "       dtype=torch.int32)"
      ]
     },
     "execution_count": 13,
     "metadata": {},
     "output_type": "execute_result"
    }
   ],
   "source": [
    "labels"
   ]
  },
  {
   "attachments": {},
   "cell_type": "markdown",
   "metadata": {},
   "source": [
    "### finetune and test loop"
   ]
  },
  {
   "cell_type": "code",
   "execution_count": 14,
   "metadata": {},
   "outputs": [
    {
     "name": "stderr",
     "output_type": "stream",
     "text": [
      "/Users/giovanni/Documents/Atai/projects/tfc_pretrain/TFC-pretraining/code/TFC/loss.py:119: UserWarning: The operator 'aten::nonzero' is not currently supported on the MPS backend and will fall back to run on the CPU. This may have performance implications. (Triggered internally at /Users/runner/work/pytorch/pytorch/pytorch/aten/src/ATen/mps/MPSFallback.mm:11.)\n",
      "  negatives = similarity_matrix[self.mask_samples_from_same_repr].view(2 * self.batch_size, -1)\n"
     ]
    },
    {
     "ename": "ValueError",
     "evalue": "y should be a 1d array, got an array of shape (42, 2) instead.",
     "output_type": "error",
     "traceback": [
      "\u001b[0;31m---------------------------------------------------------------------------\u001b[0m",
      "\u001b[0;31mValueError\u001b[0m                                Traceback (most recent call last)",
      "\u001b[1;32m/Users/giovanni/Documents/Atai/projects/tfc_pretrain/TFC-pretraining/notebooks/fine_tuning_FOG_events.ipynb Cell 20\u001b[0m in \u001b[0;36m<cell line: 6>\u001b[0;34m()\u001b[0m\n\u001b[1;32m      <a href='vscode-notebook-cell:/Users/giovanni/Documents/Atai/projects/tfc_pretrain/TFC-pretraining/notebooks/fine_tuning_FOG_events.ipynb#X22sZmlsZQ%3D%3D?line=2'>3</a>\u001b[0m KNN_f1 \u001b[39m=\u001b[39m []\n\u001b[1;32m      <a href='vscode-notebook-cell:/Users/giovanni/Documents/Atai/projects/tfc_pretrain/TFC-pretraining/notebooks/fine_tuning_FOG_events.ipynb#X22sZmlsZQ%3D%3D?line=5'>6</a>\u001b[0m \u001b[39mfor\u001b[39;00m epoch \u001b[39min\u001b[39;00m \u001b[39mrange\u001b[39m(\u001b[39m1\u001b[39m, configs\u001b[39m.\u001b[39mnum_epoch \u001b[39m+\u001b[39m \u001b[39m1\u001b[39m):\n\u001b[0;32m----> <a href='vscode-notebook-cell:/Users/giovanni/Documents/Atai/projects/tfc_pretrain/TFC-pretraining/notebooks/fine_tuning_FOG_events.ipynb#X22sZmlsZQ%3D%3D?line=6'>7</a>\u001b[0m     valid_loss, emb_finetune, label_finetune, F1 \u001b[39m=\u001b[39m model_finetune(TFC_model, model_optimizer, \n\u001b[1;32m      <a href='vscode-notebook-cell:/Users/giovanni/Documents/Atai/projects/tfc_pretrain/TFC-pretraining/notebooks/fine_tuning_FOG_events.ipynb#X22sZmlsZQ%3D%3D?line=7'>8</a>\u001b[0m                                                                 valid_dl, configs, device, training_mode, \n\u001b[1;32m      <a href='vscode-notebook-cell:/Users/giovanni/Documents/Atai/projects/tfc_pretrain/TFC-pretraining/notebooks/fine_tuning_FOG_events.ipynb#X22sZmlsZQ%3D%3D?line=8'>9</a>\u001b[0m                                                                 classifier, classifier_optimizer)\n\u001b[1;32m     <a href='vscode-notebook-cell:/Users/giovanni/Documents/Atai/projects/tfc_pretrain/TFC-pretraining/notebooks/fine_tuning_FOG_events.ipynb#X22sZmlsZQ%3D%3D?line=10'>11</a>\u001b[0m     scheduler\u001b[39m.\u001b[39mstep(valid_loss)\n\u001b[1;32m     <a href='vscode-notebook-cell:/Users/giovanni/Documents/Atai/projects/tfc_pretrain/TFC-pretraining/notebooks/fine_tuning_FOG_events.ipynb#X22sZmlsZQ%3D%3D?line=14'>15</a>\u001b[0m     \u001b[39mif\u001b[39;00m \u001b[39mlen\u001b[39m(total_f1) \u001b[39m==\u001b[39m \u001b[39m0\u001b[39m \u001b[39mor\u001b[39;00m F1 \u001b[39m>\u001b[39m \u001b[39mmax\u001b[39m(total_f1):\n",
      "File \u001b[0;32m~/Documents/Atai/projects/tfc_pretrain/TFC-pretraining/code/TFC/trainer.py:213\u001b[0m, in \u001b[0;36mmodel_finetune\u001b[0;34m(model, model_optimizer, val_dl, config, device, training_mode, classifier, classifier_optimizer)\u001b[0m\n\u001b[1;32m    210\u001b[0m     auc_bs \u001b[39m=\u001b[39m np\u001b[39m.\u001b[39mfloat(\u001b[39m0\u001b[39m)\n\u001b[1;32m    212\u001b[0m \u001b[39m# print(onehot_label_numpy.shape, pred_numpy.shape)\u001b[39;00m\n\u001b[0;32m--> 213\u001b[0m prc_bs \u001b[39m=\u001b[39m average_precision_score(onehot_label_numpy, pred_numpy)\n\u001b[1;32m    215\u001b[0m total_acc\u001b[39m.\u001b[39mappend(acc_bs)\n\u001b[1;32m    216\u001b[0m total_auc\u001b[39m.\u001b[39mappend(auc_bs)\n",
      "File \u001b[0;32m~/opt/anaconda3/envs/dl_env/lib/python3.9/site-packages/sklearn/metrics/_ranking.py:233\u001b[0m, in \u001b[0;36maverage_precision_score\u001b[0;34m(y_true, y_score, average, pos_label, sample_weight)\u001b[0m\n\u001b[1;32m    226\u001b[0m         \u001b[39mraise\u001b[39;00m \u001b[39mValueError\u001b[39;00m(\n\u001b[1;32m    227\u001b[0m             \u001b[39mf\u001b[39m\u001b[39m\"\u001b[39m\u001b[39mpos_label=\u001b[39m\u001b[39m{\u001b[39;00mpos_label\u001b[39m}\u001b[39;00m\u001b[39m is not a valid label. It should be \u001b[39m\u001b[39m\"\u001b[39m\n\u001b[1;32m    228\u001b[0m             \u001b[39mf\u001b[39m\u001b[39m\"\u001b[39m\u001b[39mone of \u001b[39m\u001b[39m{\u001b[39;00mpresent_labels\u001b[39m}\u001b[39;00m\u001b[39m\"\u001b[39m\n\u001b[1;32m    229\u001b[0m         )\n\u001b[1;32m    230\u001b[0m average_precision \u001b[39m=\u001b[39m partial(\n\u001b[1;32m    231\u001b[0m     _binary_uninterpolated_average_precision, pos_label\u001b[39m=\u001b[39mpos_label\n\u001b[1;32m    232\u001b[0m )\n\u001b[0;32m--> 233\u001b[0m \u001b[39mreturn\u001b[39;00m _average_binary_score(\n\u001b[1;32m    234\u001b[0m     average_precision, y_true, y_score, average, sample_weight\u001b[39m=\u001b[39;49msample_weight\n\u001b[1;32m    235\u001b[0m )\n",
      "File \u001b[0;32m~/opt/anaconda3/envs/dl_env/lib/python3.9/site-packages/sklearn/metrics/_base.py:75\u001b[0m, in \u001b[0;36m_average_binary_score\u001b[0;34m(binary_metric, y_true, y_score, average, sample_weight)\u001b[0m\n\u001b[1;32m     72\u001b[0m     \u001b[39mraise\u001b[39;00m \u001b[39mValueError\u001b[39;00m(\u001b[39m\"\u001b[39m\u001b[39m{0}\u001b[39;00m\u001b[39m format is not supported\u001b[39m\u001b[39m\"\u001b[39m\u001b[39m.\u001b[39mformat(y_type))\n\u001b[1;32m     74\u001b[0m \u001b[39mif\u001b[39;00m y_type \u001b[39m==\u001b[39m \u001b[39m\"\u001b[39m\u001b[39mbinary\u001b[39m\u001b[39m\"\u001b[39m:\n\u001b[0;32m---> 75\u001b[0m     \u001b[39mreturn\u001b[39;00m binary_metric(y_true, y_score, sample_weight\u001b[39m=\u001b[39;49msample_weight)\n\u001b[1;32m     77\u001b[0m check_consistent_length(y_true, y_score, sample_weight)\n\u001b[1;32m     78\u001b[0m y_true \u001b[39m=\u001b[39m check_array(y_true)\n",
      "File \u001b[0;32m~/opt/anaconda3/envs/dl_env/lib/python3.9/site-packages/sklearn/metrics/_ranking.py:206\u001b[0m, in \u001b[0;36maverage_precision_score.<locals>._binary_uninterpolated_average_precision\u001b[0;34m(y_true, y_score, pos_label, sample_weight)\u001b[0m\n\u001b[1;32m    203\u001b[0m \u001b[39mdef\u001b[39;00m \u001b[39m_binary_uninterpolated_average_precision\u001b[39m(\n\u001b[1;32m    204\u001b[0m     y_true, y_score, pos_label\u001b[39m=\u001b[39m\u001b[39m1\u001b[39m, sample_weight\u001b[39m=\u001b[39m\u001b[39mNone\u001b[39;00m\n\u001b[1;32m    205\u001b[0m ):\n\u001b[0;32m--> 206\u001b[0m     precision, recall, _ \u001b[39m=\u001b[39m precision_recall_curve(\n\u001b[1;32m    207\u001b[0m         y_true, y_score, pos_label\u001b[39m=\u001b[39;49mpos_label, sample_weight\u001b[39m=\u001b[39;49msample_weight\n\u001b[1;32m    208\u001b[0m     )\n\u001b[1;32m    209\u001b[0m     \u001b[39m# Return the step function integral\u001b[39;00m\n\u001b[1;32m    210\u001b[0m     \u001b[39m# The following works because the last entry of precision is\u001b[39;00m\n\u001b[1;32m    211\u001b[0m     \u001b[39m# guaranteed to be 1, as returned by precision_recall_curve\u001b[39;00m\n\u001b[1;32m    212\u001b[0m     \u001b[39mreturn\u001b[39;00m \u001b[39m-\u001b[39mnp\u001b[39m.\u001b[39msum(np\u001b[39m.\u001b[39mdiff(recall) \u001b[39m*\u001b[39m np\u001b[39m.\u001b[39marray(precision)[:\u001b[39m-\u001b[39m\u001b[39m1\u001b[39m])\n",
      "File \u001b[0;32m~/opt/anaconda3/envs/dl_env/lib/python3.9/site-packages/sklearn/metrics/_ranking.py:867\u001b[0m, in \u001b[0;36mprecision_recall_curve\u001b[0;34m(y_true, probas_pred, pos_label, sample_weight)\u001b[0m\n\u001b[1;32m    786\u001b[0m \u001b[39mdef\u001b[39;00m \u001b[39mprecision_recall_curve\u001b[39m(y_true, probas_pred, \u001b[39m*\u001b[39m, pos_label\u001b[39m=\u001b[39m\u001b[39mNone\u001b[39;00m, sample_weight\u001b[39m=\u001b[39m\u001b[39mNone\u001b[39;00m):\n\u001b[1;32m    787\u001b[0m     \u001b[39m\"\"\"Compute precision-recall pairs for different probability thresholds.\u001b[39;00m\n\u001b[1;32m    788\u001b[0m \n\u001b[1;32m    789\u001b[0m \u001b[39m    Note: this implementation is restricted to the binary classification task.\u001b[39;00m\n\u001b[0;32m   (...)\u001b[0m\n\u001b[1;32m    865\u001b[0m \u001b[39m    array([0.1 , 0.35, 0.4 , 0.8 ])\u001b[39;00m\n\u001b[1;32m    866\u001b[0m \u001b[39m    \"\"\"\u001b[39;00m\n\u001b[0;32m--> 867\u001b[0m     fps, tps, thresholds \u001b[39m=\u001b[39m _binary_clf_curve(\n\u001b[1;32m    868\u001b[0m         y_true, probas_pred, pos_label\u001b[39m=\u001b[39;49mpos_label, sample_weight\u001b[39m=\u001b[39;49msample_weight\n\u001b[1;32m    869\u001b[0m     )\n\u001b[1;32m    871\u001b[0m     ps \u001b[39m=\u001b[39m tps \u001b[39m+\u001b[39m fps\n\u001b[1;32m    872\u001b[0m     precision \u001b[39m=\u001b[39m np\u001b[39m.\u001b[39mdivide(tps, ps, where\u001b[39m=\u001b[39m(ps \u001b[39m!=\u001b[39m \u001b[39m0\u001b[39m))\n",
      "File \u001b[0;32m~/opt/anaconda3/envs/dl_env/lib/python3.9/site-packages/sklearn/metrics/_ranking.py:742\u001b[0m, in \u001b[0;36m_binary_clf_curve\u001b[0;34m(y_true, y_score, pos_label, sample_weight)\u001b[0m\n\u001b[1;32m    740\u001b[0m check_consistent_length(y_true, y_score, sample_weight)\n\u001b[1;32m    741\u001b[0m y_true \u001b[39m=\u001b[39m column_or_1d(y_true)\n\u001b[0;32m--> 742\u001b[0m y_score \u001b[39m=\u001b[39m column_or_1d(y_score)\n\u001b[1;32m    743\u001b[0m assert_all_finite(y_true)\n\u001b[1;32m    744\u001b[0m assert_all_finite(y_score)\n",
      "File \u001b[0;32m~/opt/anaconda3/envs/dl_env/lib/python3.9/site-packages/sklearn/utils/validation.py:1156\u001b[0m, in \u001b[0;36mcolumn_or_1d\u001b[0;34m(y, warn)\u001b[0m\n\u001b[1;32m   1147\u001b[0m         warnings\u001b[39m.\u001b[39mwarn(\n\u001b[1;32m   1148\u001b[0m             \u001b[39m\"\u001b[39m\u001b[39mA column-vector y was passed when a 1d array was\u001b[39m\u001b[39m\"\u001b[39m\n\u001b[1;32m   1149\u001b[0m             \u001b[39m\"\u001b[39m\u001b[39m expected. Please change the shape of y to \u001b[39m\u001b[39m\"\u001b[39m\n\u001b[0;32m   (...)\u001b[0m\n\u001b[1;32m   1152\u001b[0m             stacklevel\u001b[39m=\u001b[39m\u001b[39m2\u001b[39m,\n\u001b[1;32m   1153\u001b[0m         )\n\u001b[1;32m   1154\u001b[0m     \u001b[39mreturn\u001b[39;00m np\u001b[39m.\u001b[39mravel(y)\n\u001b[0;32m-> 1156\u001b[0m \u001b[39mraise\u001b[39;00m \u001b[39mValueError\u001b[39;00m(\n\u001b[1;32m   1157\u001b[0m     \u001b[39m\"\u001b[39m\u001b[39my should be a 1d array, got an array of shape \u001b[39m\u001b[39m{}\u001b[39;00m\u001b[39m instead.\u001b[39m\u001b[39m\"\u001b[39m\u001b[39m.\u001b[39mformat(shape)\n\u001b[1;32m   1158\u001b[0m )\n",
      "\u001b[0;31mValueError\u001b[0m: y should be a 1d array, got an array of shape (42, 2) instead."
     ]
    }
   ],
   "source": [
    "performance_list = []\n",
    "total_f1 = []\n",
    "KNN_f1 = []\n",
    "\n",
    "\n",
    "for epoch in range(1, configs.num_epoch + 1):\n",
    "    valid_loss, emb_finetune, label_finetune, F1 = model_finetune(TFC_model, model_optimizer, \n",
    "                                                                valid_dl, configs, device, training_mode, \n",
    "                                                                classifier, classifier_optimizer)\n",
    "\n",
    "    scheduler.step(valid_loss)\n",
    "\n",
    "\n",
    "            \n",
    "    if len(total_f1) == 0 or F1 > max(total_f1):\n",
    "        print('update fine-tuned model')\n",
    "        os.makedirs('experiments_logs/finetunemodel/', exist_ok=True)\n",
    "        torch.save(TFC_model.state_dict(), 'experiments_logs/finetunemodel/' + arch + '_model.pt')\n",
    "        torch.save(classifier.state_dict(), 'experiments_logs/finetunemodel/' + arch + '_classifier.pt')\n",
    "    \n",
    "    \n",
    "    total_f1.append(F1)\n",
    "\n",
    "\n",
    "    TFC_model.load_state_dict(torch.load('experiments_logs/finetunemodel/' + arch + '_model.pt'))\n",
    "    classifier.load_state_dict(torch.load('experiments_logs/finetunemodel/' + arch + '_classifier.pt'))\n",
    "    \n",
    "    test_loss, test_acc, test_auc, test_prc, emb_test, label_test, performance = model_test(TFC_model, test_dl, configs, device, training_mode,\n",
    "                                                             classifier=classifier, classifier_optimizer=classifier_optimizer)\n",
    "    \n",
    "    F1_knn = model_test_knn(emb_finetune, label_finetune, emb_test, label_test)\n",
    "    KNN_f1.append(F1_knn)\n",
    "    \n",
    "    performance_list.append(performance)\n",
    "\n",
    "\n",
    "    # break\n"
   ]
  },
  {
   "cell_type": "code",
   "execution_count": 11,
   "metadata": {},
   "outputs": [
    {
     "name": "stdout",
     "output_type": "stream",
     "text": [
      "Best Testing Performance: Acc=73.9639| Precision = 76.9102 | Recall = 75.5174 | F1 = 73.8252 | AUROC= 83.8272 | AUPRC=83.6260\n"
     ]
    }
   ],
   "source": [
    "performance_array = np.array(performance_list)\n",
    "best_performance = performance_array[np.argmax(performance_array[:,-2], axis=0)]\n",
    "\n",
    "print('Best Testing Performance: Acc=%.4f| Precision = %.4f | Recall = %.4f | F1 = %.4f | AUROC= %.4f '\n",
    "              '| AUPRC=%.4f' % (best_performance[0], best_performance[1], best_performance[2], best_performance[3],\n",
    "                                best_performance[4], best_performance[5]))"
   ]
  },
  {
   "cell_type": "code",
   "execution_count": null,
   "metadata": {},
   "outputs": [],
   "source": []
  },
  {
   "attachments": {},
   "cell_type": "markdown",
   "metadata": {},
   "source": [
    "### visualise embeddings of test set"
   ]
  },
  {
   "cell_type": "code",
   "execution_count": 12,
   "metadata": {},
   "outputs": [],
   "source": [
    "from sklearn.manifold import TSNE"
   ]
  },
  {
   "cell_type": "code",
   "execution_count": 17,
   "metadata": {},
   "outputs": [],
   "source": [
    "data, labels, aug1, data_f, aug1_f = next(iter(test_dl))"
   ]
  },
  {
   "cell_type": "code",
   "execution_count": 18,
   "metadata": {},
   "outputs": [],
   "source": [
    "h_t, z_t, h_f, z_f = TFC_model(data.to(torch.float32).to(device), data_f.to(torch.float32).to(device))\n",
    "fea_concat = torch.cat((z_t, z_f), dim=1)\n",
    "fea_concat = fea_concat.to('cpu').detach().numpy()"
   ]
  },
  {
   "cell_type": "code",
   "execution_count": 19,
   "metadata": {},
   "outputs": [],
   "source": [
    "X_embedded = TSNE(n_components=2, learning_rate='auto', init='random', perplexity=3).fit_transform(fea_concat)"
   ]
  },
  {
   "cell_type": "code",
   "execution_count": 20,
   "metadata": {},
   "outputs": [
    {
     "data": {
      "text/plain": [
       "<matplotlib.collections.PathCollection at 0x7fee42de9820>"
      ]
     },
     "execution_count": 20,
     "metadata": {},
     "output_type": "execute_result"
    },
    {
     "data": {
      "image/png": "[encoded data removed]",
      "text/plain": [
       "<Figure size 432x288 with 1 Axes>"
      ]
     },
     "metadata": {
      "needs_background": "light"
     },
     "output_type": "display_data"
    }
   ],
   "source": [
    "plt.scatter(X_embedded[:,0], X_embedded[:,1],c=list(labels.numpy()))"
   ]
  },
  {
   "cell_type": "code",
   "execution_count": null,
   "metadata": {},
   "outputs": [],
   "source": []
  }
 ],
 "metadata": {
  "kernelspec": {
   "display_name": "dl_env_39",
   "language": "python",
   "name": "dl_env"
  },
  "language_info": {
   "codemirror_mode": {
    "name": "ipython",
    "version": 3
   },
   "file_extension": ".py",
   "mimetype": "text/x-python",
   "name": "python",
   "nbconvert_exporter": "python",
   "pygments_lexer": "ipython3",
   "version": "3.9.7"
  },
  "orig_nbformat": 4,
  "vscode": {
   "interpreter": {
    "hash": "d079bcb107641a1326df1bc84975df91168e37aa8e1fb79a357e0c3f937b5f74"
   }
  }
 },
 "nbformat": 4,
 "nbformat_minor": 2
}
