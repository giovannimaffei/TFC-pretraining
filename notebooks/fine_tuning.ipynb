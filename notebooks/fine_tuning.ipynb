{
 "cells": [
  {
   "cell_type": "code",
   "execution_count": 1,
   "metadata": {},
   "outputs": [],
   "source": [
    "import sys\n",
    "import os\n",
    "import matplotlib.pyplot as plt\n",
    "import numpy as np\n",
    "from sklearn.neighbors import KNeighborsClassifier\n",
    "from sklearn.metrics import roc_auc_score, classification_report, confusion_matrix, \\\n",
    "    average_precision_score, accuracy_score, precision_score,f1_score,recall_score"
   ]
  },
  {
   "attachments": {},
   "cell_type": "markdown",
   "metadata": {},
   "source": [
    "# TFC fine tuning"
   ]
  },
  {
   "cell_type": "code",
   "execution_count": 2,
   "metadata": {},
   "outputs": [],
   "source": [
    "sys.path.append('/Users/giovanni/Documents/Atai/projects/tfc_pretrain/TFC-pretraining/code/TFC/')\n",
    "sys.path.append('/Users/giovanni/Documents/Atai/projects/tfc_pretrain/TFC-pretraining/code/TFC/model')\n",
    "sys.path.append('/Users/giovanni/Documents/Atai/projects/tfc_pretrain/TFC-pretraining/code/TFC/trainer')\n",
    "sys.path.append('/Users/giovanni/Documents/Atai/projects/tfc_pretrain/TFC-pretraining/code/TFC/dataloader')\n",
    "sys.path.append('/Users/giovanni/Documents/Atai/projects/tfc_pretrain/TFC-pretraining/code/config_files/')\n",
    "sys.path.append('/Users/giovanni/Documents/Atai/projects/tfc_pretrain/TFC-pretraining/code/config_files/SleepEEG_Configs')\n",
    "sys.path.append('/Users/giovanni/Documents/Atai/projects/tfc_pretrain/TFC-pretraining/code/config_files/MddEEG_Configs')"
   ]
  },
  {
   "cell_type": "code",
   "execution_count": 3,
   "metadata": {},
   "outputs": [],
   "source": [
    "import torch\n",
    "from torch import nn\n",
    "from model import TFC, target_classifier\n",
    "from SleepEEG_Configs import Config as Configs\n",
    "# from MddEEG_Configs import Config as Configs\n",
    "from dataloader import data_generator\n",
    "from trainer import model_finetune, model_test\n"
   ]
  },
  {
   "cell_type": "code",
   "execution_count": 4,
   "metadata": {},
   "outputs": [],
   "source": [
    "def one_hot_encoding(X):\n",
    "    X = [int(x) for x in X]\n",
    "    n_values = np.max(X) + 1\n",
    "    b = np.eye(n_values)[X]\n",
    "    return b\n",
    "\n",
    "\n",
    "def model_test_knn(emb_finetune, label_finetune, emb_test, label_test):\n",
    "\n",
    "\n",
    "    neigh = KNeighborsClassifier(n_neighbors=5)\n",
    "    neigh.fit(emb_finetune, label_finetune)\n",
    "    knn_acc_train = neigh.score(emb_finetune, label_finetune)\n",
    "\n",
    "    representation_test = emb_test.detach().cpu().numpy()\n",
    "\n",
    "    knn_result = neigh.predict(representation_test)\n",
    "    knn_result_score = neigh.predict_proba(representation_test)\n",
    "    one_hot_label_test = one_hot_encoding(label_test)\n",
    "\n",
    "    knn_acc = accuracy_score(label_test, knn_result)\n",
    "    precision = precision_score(label_test, knn_result, average='macro', )\n",
    "    recall = recall_score(label_test, knn_result, average='macro', )\n",
    "    F1 = f1_score(label_test, knn_result, average='macro')\n",
    "    auc = roc_auc_score(one_hot_label_test, knn_result_score, average=\"macro\", multi_class=\"ovr\")\n",
    "    prc = average_precision_score(one_hot_label_test, knn_result_score, average=\"macro\")\n",
    "    print('KNN Testing: Acc=%.4f| Precision = %.4f | Recall = %.4f | F1 = %.4f | AUROC= %.4f | AUPRC=%.4f'%\n",
    "                  (knn_acc, precision, recall, F1, auc, prc))\n",
    "\n",
    "    return F1"
   ]
  },
  {
   "cell_type": "code",
   "execution_count": 5,
   "metadata": {},
   "outputs": [
    {
     "data": {
      "text/plain": [
       "True"
      ]
     },
     "execution_count": 5,
     "metadata": {},
     "output_type": "execute_result"
    }
   ],
   "source": [
    "torch.backends.mps.is_available()"
   ]
  },
  {
   "cell_type": "markdown",
   "metadata": {},
   "source": [
    "### define configs"
   ]
  },
  {
   "cell_type": "code",
   "execution_count": 6,
   "metadata": {},
   "outputs": [],
   "source": [
    "SEED = 42\n",
    "arch = 'sleepedf2mdd'\n",
    "load_from = '../models/SleepEEG_2_Epilepsy/pretrained/'\n",
    "sourcedata_path = '../datasets/SleepEEG/'\n",
    "targetdata_path = '../datasets/MddEEG/'\n",
    "training_mode = 'fine_tune_test'\n",
    "subset = False\n",
    "\n",
    "\n",
    "device = torch.device(\"mps\")\n",
    "configs = Configs()"
   ]
  },
  {
   "cell_type": "markdown",
   "metadata": {},
   "source": [
    "### create and load TFC model and finetuning classifier"
   ]
  },
  {
   "cell_type": "code",
   "execution_count": 7,
   "metadata": {},
   "outputs": [],
   "source": [
    "TFC_model = TFC(configs).to(device)\n",
    "chkpoint = torch.load(os.path.join(load_from, \"ckp_last.pt\"), map_location=device)\n",
    "pretrained_dict = chkpoint[\"model_state_dict\"]\n",
    "TFC_model.load_state_dict(pretrained_dict)\n",
    "\n",
    "\n",
    "classifier = target_classifier(configs).to(device)"
   ]
  },
  {
   "attachments": {},
   "cell_type": "markdown",
   "metadata": {},
   "source": [
    "### create optimizers"
   ]
  },
  {
   "cell_type": "code",
   "execution_count": 8,
   "metadata": {},
   "outputs": [],
   "source": [
    "model_optimizer = torch.optim.Adam(TFC_model.parameters(), lr=configs.lr, betas=(configs.beta1, configs.beta2), weight_decay=3e-4)\n",
    "classifier_optimizer = torch.optim.Adam(classifier.parameters(), lr=configs.lr, betas=(configs.beta1, configs.beta2), weight_decay=3e-4)\n",
    "\n",
    "criterion = nn.CrossEntropyLoss()\n",
    "scheduler = torch.optim.lr_scheduler.ReduceLROnPlateau(model_optimizer, 'min')"
   ]
  },
  {
   "attachments": {},
   "cell_type": "markdown",
   "metadata": {},
   "source": [
    "### load datasets"
   ]
  },
  {
   "cell_type": "code",
   "execution_count": 9,
   "metadata": {},
   "outputs": [],
   "source": [
    "train_dl, valid_dl, test_dl = data_generator(sourcedata_path, targetdata_path, configs, training_mode, subset=subset)"
   ]
  },
  {
   "attachments": {},
   "cell_type": "markdown",
   "metadata": {},
   "source": [
    "### finetune and test loop"
   ]
  },
  {
   "cell_type": "code",
   "execution_count": 10,
   "metadata": {},
   "outputs": [
    {
     "name": "stderr",
     "output_type": "stream",
     "text": [
      "/Users/giovanni/Documents/Atai/projects/tfc_pretrain/TFC-pretraining/code/TFC/loss.py:119: UserWarning: The operator 'aten::nonzero' is not currently supported on the MPS backend and will fall back to run on the CPU. This may have performance implications. (Triggered internally at /Users/runner/work/pytorch/pytorch/pytorch/aten/src/ATen/mps/MPSFallback.mm:11.)\n",
      "  negatives = similarity_matrix[self.mask_samples_from_same_repr].view(2 * self.batch_size, -1)\n"
     ]
    },
    {
     "name": "stdout",
     "output_type": "stream",
     "text": [
      " Finetune: loss = 6.1514| Acc=77.5502 | Precision = 86.6667 | Recall = 86.6667 | F1 = 86.6667| AUROC=86.8692 | AUPRC = 86.9440\n",
      "update fine-tuned model\n",
      "MLP Testing: Acc=81.8801| Precision = 82.0977 | Recall = 81.8406 | F1 = 81.8353 | AUROC= 90.8356 | AUPRC=91.2910\n",
      "KNN Testing: Acc=0.8235| Precision = 0.8251 | Recall = 0.8232 | F1 = 0.8232 | AUROC= 0.8966 | AUPRC=0.8709\n",
      " Finetune: loss = 4.4768| Acc=81.9478 | Precision = 84.9277 | Recall = 85.0446 | F1 = 84.9624| AUROC=90.8657 | AUPRC = 91.2334\n",
      "MLP Testing: Acc=81.7498| Precision = 81.9717 | Recall = 81.7098 | F1 = 81.7037 | AUROC= 90.8104 | AUPRC=91.2359\n",
      "KNN Testing: Acc=0.8247| Precision = 0.8342 | Recall = 0.8239 | F1 = 0.8232 | AUROC= 0.9061 | AUPRC=0.8828\n",
      " Finetune: loss = 4.4907| Acc=81.5997 | Precision = 77.0089 | Recall = 77.0089 | F1 = 76.6667| AUROC=91.0019 | AUPRC = 91.3952\n",
      "MLP Testing: Acc=81.5795| Precision = 81.7739 | Recall = 81.5418 | F1 = 81.5375 | AUROC= 90.8571 | AUPRC=91.2351\n",
      "KNN Testing: Acc=0.8295| Precision = 0.8391 | Recall = 0.8287 | F1 = 0.8281 | AUROC= 0.9073 | AUPRC=0.8835\n",
      " Finetune: loss = 4.5291| Acc=81.2182 | Precision = 83.4821 | Recall = 83.3333 | F1 = 83.3148| AUROC=90.5561 | AUPRC = 90.9943\n",
      "MLP Testing: Acc=81.6797| Precision = 81.9043 | Recall = 81.6394 | F1 = 81.6328 | AUROC= 90.8625 | AUPRC=91.2401\n",
      "KNN Testing: Acc=0.8286| Precision = 0.8387 | Recall = 0.8278 | F1 = 0.8271 | AUROC= 0.9086 | AUPRC=0.8848\n",
      " Finetune: loss = 4.5118| Acc=81.6332 | Precision = 83.3333 | Recall = 83.4821 | F1 = 83.3148| AUROC=90.5587 | AUPRC = 91.0248\n",
      "MLP Testing: Acc=81.9102| Precision = 82.1356 | Recall = 81.8700 | F1 = 81.8641 | AUROC= 90.7321 | AUPRC=91.1966\n",
      "KNN Testing: Acc=0.8231| Precision = 0.8326 | Recall = 0.8223 | F1 = 0.8216 | AUROC= 0.9049 | AUPRC=0.8809\n",
      " Finetune: loss = 4.4939| Acc=81.3119 | Precision = 79.9778 | Recall = 79.9778 | F1 = 79.9778| AUROC=90.5782 | AUPRC = 91.0674\n",
      "MLP Testing: Acc=81.5294| Precision = 81.7430 | Recall = 81.4899 | F1 = 81.4838 | AUROC= 90.8718 | AUPRC=91.3351\n",
      "KNN Testing: Acc=0.8215| Precision = 0.8321 | Recall = 0.8207 | F1 = 0.8198 | AUROC= 0.9050 | AUPRC=0.8809\n",
      " Finetune: loss = 4.5046| Acc=81.4458 | Precision = 88.3484 | Recall = 88.0471 | F1 = 88.1723| AUROC=90.6088 | AUPRC = 91.0327\n",
      "update fine-tuned model\n",
      "MLP Testing: Acc=81.7498| Precision = 81.8536 | Recall = 81.7221 | F1 = 81.7246 | AUROC= 90.6046 | AUPRC=90.9733\n",
      "KNN Testing: Acc=0.8053| Precision = 0.8079 | Recall = 0.8048 | F1 = 0.8047 | AUROC= 0.8844 | AUPRC=0.8585\n",
      " Finetune: loss = 3.8187| Acc=81.6734 | Precision = 85.2679 | Recall = 85.1502 | F1 = 84.9958| AUROC=90.7345 | AUPRC = 91.0206\n",
      "MLP Testing: Acc=81.4692| Precision = 81.5718 | Recall = 81.4414 | F1 = 81.4436 | AUROC= 90.7249 | AUPRC=91.1261\n",
      "KNN Testing: Acc=0.8113| Precision = 0.8200 | Recall = 0.8105 | F1 = 0.8097 | AUROC= 0.8859 | AUPRC=0.8588\n",
      " Finetune: loss = 3.8286| Acc=81.8541 | Precision = 76.7857 | Recall = 76.6667 | F1 = 76.6407| AUROC=90.5432 | AUPRC = 90.8969\n",
      "MLP Testing: Acc=81.7398| Precision = 81.8503 | Recall = 81.7112 | F1 = 81.7133 | AUROC= 90.5504 | AUPRC=90.9260\n",
      "KNN Testing: Acc=0.8050| Precision = 0.8139 | Recall = 0.8042 | F1 = 0.8033 | AUROC= 0.8834 | AUPRC=0.8569\n",
      " Finetune: loss = 3.8241| Acc=81.9009 | Precision = 83.0317 | Recall = 83.0317 | F1 = 83.0317| AUROC=90.4955 | AUPRC = 90.8386\n",
      "MLP Testing: Acc=81.8300| Precision = 81.9185 | Recall = 81.8043 | F1 = 81.8078 | AUROC= 90.5852 | AUPRC=90.9596\n",
      "KNN Testing: Acc=0.8032| Precision = 0.8122 | Recall = 0.8024 | F1 = 0.8014 | AUROC= 0.8844 | AUPRC=0.8587\n",
      " Finetune: loss = 3.8200| Acc=81.6265 | Precision = 85.0168 | Recall = 84.8214 | F1 = 84.8951| AUROC=90.5768 | AUPRC = 90.8687\n",
      "MLP Testing: Acc=81.9703| Precision = 82.0841 | Recall = 81.9414 | F1 = 81.9437 | AUROC= 90.6255 | AUPRC=91.0158\n",
      "KNN Testing: Acc=0.8026| Precision = 0.8107 | Recall = 0.8018 | F1 = 0.8010 | AUROC= 0.8799 | AUPRC=0.8529\n",
      " Finetune: loss = 3.8223| Acc=81.7269 | Precision = 86.8304 | Recall = 86.6667 | F1 = 86.6518| AUROC=90.6018 | AUPRC = 90.9880\n",
      "MLP Testing: Acc=81.7298| Precision = 81.8262 | Recall = 81.7030 | F1 = 81.7059 | AUROC= 90.6587 | AUPRC=91.0581\n",
      "KNN Testing: Acc=0.8075| Precision = 0.8156 | Recall = 0.8067 | F1 = 0.8059 | AUROC= 0.8866 | AUPRC=0.8607\n",
      " Finetune: loss = 3.8235| Acc=81.4993 | Precision = 77.6786 | Recall = 79.1422 | F1 = 77.8346| AUROC=90.5825 | AUPRC = 90.8970\n",
      "MLP Testing: Acc=81.9002| Precision = 82.0144 | Recall = 81.8712 | F1 = 81.8733 | AUROC= 90.5937 | AUPRC=91.0285\n",
      "KNN Testing: Acc=0.8111| Precision = 0.8210 | Recall = 0.8102 | F1 = 0.8093 | AUROC= 0.8888 | AUPRC=0.8628\n",
      " Finetune: loss = 3.8296| Acc=81.6064 | Precision = 78.1424 | Recall = 78.6199 | F1 = 78.1818| AUROC=90.4919 | AUPRC = 90.8373\n",
      "MLP Testing: Acc=81.6196| Precision = 81.7235 | Recall = 81.5917 | F1 = 81.5940 | AUROC= 90.5997 | AUPRC=90.9757\n",
      "KNN Testing: Acc=0.8025| Precision = 0.8099 | Recall = 0.8017 | F1 = 0.8010 | AUROC= 0.8839 | AUPRC=0.8576\n",
      " Finetune: loss = 3.8239| Acc=81.5997 | Precision = 85.2679 | Recall = 85.1502 | F1 = 84.9958| AUROC=90.5006 | AUPRC = 90.8506\n",
      "MLP Testing: Acc=81.7398| Precision = 81.8300 | Recall = 81.7138 | F1 = 81.7171 | AUROC= 90.6589 | AUPRC=91.0809\n",
      "KNN Testing: Acc=0.8057| Precision = 0.8146 | Recall = 0.8049 | F1 = 0.8040 | AUROC= 0.8820 | AUPRC=0.8549\n",
      " Finetune: loss = 3.8375| Acc=81.1111 | Precision = 87.9464 | Recall = 88.8571 | F1 = 88.1723| AUROC=90.3129 | AUPRC = 90.6743\n",
      "MLP Testing: Acc=81.6597| Precision = 81.7806 | Recall = 81.6297 | F1 = 81.6310 | AUROC= 90.6498 | AUPRC=91.0476\n",
      "KNN Testing: Acc=0.8066| Precision = 0.8152 | Recall = 0.8058 | F1 = 0.8050 | AUROC= 0.8853 | AUPRC=0.8592\n",
      " Finetune: loss = 3.8080| Acc=81.7336 | Precision = 78.3333 | Recall = 78.3648 | F1 = 78.3273| AUROC=90.6479 | AUPRC = 91.0291\n",
      "MLP Testing: Acc=81.7098| Precision = 81.7991 | Recall = 81.6839 | F1 = 81.6871 | AUROC= 90.6666 | AUPRC=91.0505\n",
      "KNN Testing: Acc=0.8058| Precision = 0.8124 | Recall = 0.8051 | F1 = 0.8045 | AUROC= 0.8855 | AUPRC=0.8599\n",
      " Finetune: loss = 3.8157| Acc=81.2450 | Precision = 82.5893 | Recall = 84.3126 | F1 = 81.5385| AUROC=90.4143 | AUPRC = 90.7457\n",
      "MLP Testing: Acc=81.7298| Precision = 81.8410 | Recall = 81.7011 | F1 = 81.7031 | AUROC= 90.6200 | AUPRC=91.0297\n",
      "KNN Testing: Acc=0.7999| Precision = 0.8079 | Recall = 0.7991 | F1 = 0.7983 | AUROC= 0.8828 | AUPRC=0.8569\n",
      " Finetune: loss = 3.8246| Acc=81.8474 | Precision = 79.7980 | Recall = 79.7980 | F1 = 79.7980| AUROC=90.7123 | AUPRC = 90.9850\n",
      "MLP Testing: Acc=81.6897| Precision = 81.8085 | Recall = 81.6600 | F1 = 81.6616 | AUROC= 90.7378 | AUPRC=91.1013\n",
      "KNN Testing: Acc=0.8055| Precision = 0.8139 | Recall = 0.8047 | F1 = 0.8039 | AUROC= 0.8861 | AUPRC=0.8599\n",
      " Finetune: loss = 3.8243| Acc=81.5462 | Precision = 81.8131 | Recall = 81.9196 | F1 = 81.6616| AUROC=90.6748 | AUPRC = 91.0729\n",
      "MLP Testing: Acc=81.5294| Precision = 81.6396 | Recall = 81.5006 | F1 = 81.5024 | AUROC= 90.5887 | AUPRC=91.0003\n",
      "KNN Testing: Acc=0.8092| Precision = 0.8169 | Recall = 0.8084 | F1 = 0.8077 | AUROC= 0.8870 | AUPRC=0.8609\n",
      " Finetune: loss = 3.8165| Acc=81.9612 | Precision = 90.1786 | Recall = 90.0000 | F1 = 89.9889| AUROC=90.6614 | AUPRC = 91.0140\n",
      "update fine-tuned model\n",
      "MLP Testing: Acc=81.9904| Precision = 82.0462 | Recall = 81.9698 | F1 = 81.9746 | AUROC= 90.4585 | AUPRC=90.7584\n",
      "KNN Testing: Acc=0.8008| Precision = 0.8036 | Recall = 0.8003 | F1 = 0.8001 | AUROC= 0.8772 | AUPRC=0.8505\n",
      " Finetune: loss = 3.5316| Acc=81.6332 | Precision = 76.8632 | Recall = 77.1044 | F1 = 76.6407| AUROC=90.4503 | AUPRC = 90.7136\n",
      "MLP Testing: Acc=82.4013| Precision = 82.4609 | Recall = 82.3803 | F1 = 82.3854 | AUROC= 90.5386 | AUPRC=90.8525\n",
      "KNN Testing: Acc=0.7948| Precision = 0.8034 | Recall = 0.7940 | F1 = 0.7931 | AUROC= 0.8729 | AUPRC=0.8458\n",
      " Finetune: loss = 3.5531| Acc=81.8072 | Precision = 86.5320 | Recall = 86.5320 | F1 = 86.5320| AUROC=90.4056 | AUPRC = 90.7016\n",
      "MLP Testing: Acc=82.1006| Precision = 82.1518 | Recall = 82.0809 | F1 = 82.0859 | AUROC= 90.4235 | AUPRC=90.8082\n",
      "KNN Testing: Acc=0.7976| Precision = 0.8043 | Recall = 0.7968 | F1 = 0.7961 | AUROC= 0.8752 | AUPRC=0.8479\n",
      " Finetune: loss = 3.5286| Acc=81.7537 | Precision = 86.6667 | Recall = 87.3303 | F1 = 86.6071| AUROC=90.3653 | AUPRC = 90.6683\n",
      "MLP Testing: Acc=82.1207| Precision = 82.1901 | Recall = 82.0979 | F1 = 82.1025 | AUROC= 90.4337 | AUPRC=90.7751\n",
      "KNN Testing: Acc=0.7971| Precision = 0.8043 | Recall = 0.7963 | F1 = 0.7955 | AUROC= 0.8740 | AUPRC=0.8468\n",
      " Finetune: loss = 3.5346| Acc=82.0080 | Precision = 86.8687 | Recall = 86.5406 | F1 = 86.6071| AUROC=90.5502 | AUPRC = 90.8105\n",
      "MLP Testing: Acc=82.3412| Precision = 82.4187 | Recall = 82.3173 | F1 = 82.3218 | AUROC= 90.4027 | AUPRC=90.8208\n",
      "KNN Testing: Acc=0.7974| Precision = 0.8041 | Recall = 0.7966 | F1 = 0.7959 | AUROC= 0.8761 | AUPRC=0.8499\n",
      " Finetune: loss = 3.5479| Acc=81.7738 | Precision = 88.6161 | Recall = 88.4872 | F1 = 88.3301| AUROC=90.3401 | AUPRC = 90.5822\n",
      "MLP Testing: Acc=82.0906| Precision = 82.1511 | Recall = 82.0693 | F1 = 82.0741 | AUROC= 90.2360 | AUPRC=90.5968\n",
      "KNN Testing: Acc=0.7944| Precision = 0.8020 | Recall = 0.7937 | F1 = 0.7929 | AUROC= 0.8750 | AUPRC=0.8482\n",
      " Finetune: loss = 3.5312| Acc=81.8005 | Precision = 77.7149 | Recall = 78.0000 | F1 = 77.8346| AUROC=90.4238 | AUPRC = 90.7588\n",
      "MLP Testing: Acc=82.0806| Precision = 82.1416 | Recall = 82.0592 | F1 = 82.0639 | AUROC= 90.5190 | AUPRC=90.8660\n",
      "KNN Testing: Acc=0.7965| Precision = 0.8043 | Recall = 0.7957 | F1 = 0.7948 | AUROC= 0.8749 | AUPRC=0.8483\n",
      " Finetune: loss = 3.5340| Acc=81.8474 | Precision = 79.2929 | Recall = 79.5249 | F1 = 78.3273| AUROC=90.5108 | AUPRC = 90.7504\n",
      "MLP Testing: Acc=82.2610| Precision = 82.3147 | Recall = 82.2409 | F1 = 82.2460 | AUROC= 90.3465 | AUPRC=90.6953\n",
      "KNN Testing: Acc=0.8006| Precision = 0.8089 | Recall = 0.7998 | F1 = 0.7989 | AUROC= 0.8773 | AUPRC=0.8503\n",
      " Finetune: loss = 3.5366| Acc=81.5127 | Precision = 75.2503 | Recall = 75.6787 | F1 = 74.9373| AUROC=90.5142 | AUPRC = 90.7723\n",
      "MLP Testing: Acc=81.9102| Precision = 81.9713 | Recall = 81.8887 | F1 = 81.8933 | AUROC= 90.2859 | AUPRC=90.6168\n",
      "KNN Testing: Acc=0.7959| Precision = 0.8048 | Recall = 0.7950 | F1 = 0.7940 | AUROC= 0.8757 | AUPRC=0.8487\n",
      " Finetune: loss = 3.5400| Acc=81.7804 | Precision = 90.5724 | Recall = 90.2113 | F1 = 89.9889| AUROC=90.5225 | AUPRC = 90.7729\n",
      "MLP Testing: Acc=82.1207| Precision = 82.1853 | Recall = 82.0987 | F1 = 82.1034 | AUROC= 90.4268 | AUPRC=90.7632\n",
      "KNN Testing: Acc=0.7990| Precision = 0.8066 | Recall = 0.7982 | F1 = 0.7974 | AUROC= 0.8794 | AUPRC=0.8528\n",
      " Finetune: loss = 3.5317| Acc=81.8407 | Precision = 82.5792 | Recall = 83.3333 | F1 = 82.8571| AUROC=90.4765 | AUPRC = 90.7643\n",
      "MLP Testing: Acc=82.0706| Precision = 82.1201 | Recall = 82.0511 | F1 = 82.0561 | AUROC= 90.3959 | AUPRC=90.8135\n",
      "KNN Testing: Acc=0.8011| Precision = 0.8089 | Recall = 0.8003 | F1 = 0.7995 | AUROC= 0.8763 | AUPRC=0.8491\n",
      " Finetune: loss = 3.5257| Acc=81.7537 | Precision = 84.9277 | Recall = 85.0446 | F1 = 84.9624| AUROC=90.3184 | AUPRC = 90.5941\n",
      "MLP Testing: Acc=81.8100| Precision = 81.8709 | Recall = 81.7884 | F1 = 81.7930 | AUROC= 90.4321 | AUPRC=90.8265\n",
      "KNN Testing: Acc=0.7983| Precision = 0.8066 | Recall = 0.7975 | F1 = 0.7966 | AUROC= 0.8758 | AUPRC=0.8485\n",
      " Finetune: loss = 3.5334| Acc=81.7135 | Precision = 86.6518 | Recall = 86.6518 | F1 = 86.6518| AUROC=90.3581 | AUPRC = 90.6759\n",
      "MLP Testing: Acc=82.2309| Precision = 82.2918 | Recall = 82.2096 | F1 = 82.2145 | AUROC= 90.5709 | AUPRC=90.8900\n",
      "KNN Testing: Acc=0.8026| Precision = 0.8111 | Recall = 0.8018 | F1 = 0.8009 | AUROC= 0.8801 | AUPRC=0.8528\n",
      " Finetune: loss = 3.5311| Acc=81.3722 | Precision = 85.1502 | Recall = 85.2679 | F1 = 84.9958| AUROC=90.4198 | AUPRC = 90.7341\n",
      "MLP Testing: Acc=81.9603| Precision = 82.0177 | Recall = 81.9394 | F1 = 81.9442 | AUROC= 90.4554 | AUPRC=90.8022\n",
      "KNN Testing: Acc=0.7991| Precision = 0.8073 | Recall = 0.7983 | F1 = 0.7974 | AUROC= 0.8740 | AUPRC=0.8463\n",
      " Finetune: loss = 3.5336| Acc=81.5930 | Precision = 75.6696 | Recall = 76.2857 | F1 = 74.9373| AUROC=90.4235 | AUPRC = 90.6261\n",
      "MLP Testing: Acc=82.0104| Precision = 82.0826 | Recall = 81.9872 | F1 = 81.9916 | AUROC= 90.5409 | AUPRC=90.9432\n",
      "KNN Testing: Acc=0.7979| Precision = 0.8059 | Recall = 0.7971 | F1 = 0.7962 | AUROC= 0.8744 | AUPRC=0.8476\n",
      " Finetune: loss = 3.5369| Acc=81.8942 | Precision = 81.3131 | Recall = 81.5611 | F1 = 81.4137| AUROC=90.4535 | AUPRC = 90.6986\n",
      "MLP Testing: Acc=82.1307| Precision = 82.2007 | Recall = 82.1079 | F1 = 82.1124 | AUROC= 90.5369 | AUPRC=90.9509\n",
      "KNN Testing: Acc=0.7988| Precision = 0.8069 | Recall = 0.7980 | F1 = 0.7971 | AUROC= 0.8737 | AUPRC=0.8459\n",
      " Finetune: loss = 3.5406| Acc=81.7470 | Precision = 82.3232 | Recall = 82.1429 | F1 = 81.6616| AUROC=90.3930 | AUPRC = 90.6901\n",
      "MLP Testing: Acc=82.0305| Precision = 82.0831 | Recall = 82.0105 | F1 = 82.0154 | AUROC= 90.3816 | AUPRC=90.7884\n",
      "KNN Testing: Acc=0.7957| Precision = 0.8045 | Recall = 0.7948 | F1 = 0.7938 | AUROC= 0.8746 | AUPRC=0.8481\n",
      " Finetune: loss = 3.5370| Acc=81.4993 | Precision = 89.0572 | Recall = 88.8393 | F1 = 88.3301| AUROC=90.4405 | AUPRC = 90.7304\n",
      "MLP Testing: Acc=82.0204| Precision = 82.0848 | Recall = 81.9985 | F1 = 82.0031 | AUROC= 90.5315 | AUPRC=90.9248\n",
      "KNN Testing: Acc=0.8001| Precision = 0.8069 | Recall = 0.7993 | F1 = 0.7987 | AUROC= 0.8768 | AUPRC=0.8504\n",
      " Finetune: loss = 3.5389| Acc=81.7403 | Precision = 86.8304 | Recall = 86.6667 | F1 = 86.6518| AUROC=90.5646 | AUPRC = 90.8511\n",
      "MLP Testing: Acc=81.9904| Precision = 82.0378 | Recall = 81.9713 | F1 = 81.9763 | AUROC= 90.4576 | AUPRC=90.7844\n",
      "KNN Testing: Acc=0.7991| Precision = 0.8068 | Recall = 0.7983 | F1 = 0.7975 | AUROC= 0.8753 | AUPRC=0.8478\n",
      " Finetune: loss = 3.5326| Acc=81.8474 | Precision = 81.0268 | Recall = 83.2536 | F1 = 79.7980| AUROC=90.5896 | AUPRC = 90.8462\n",
      "MLP Testing: Acc=81.9804| Precision = 82.0506 | Recall = 81.9574 | F1 = 81.9618 | AUROC= 90.2955 | AUPRC=90.7095\n",
      "KNN Testing: Acc=0.7949| Precision = 0.8027 | Recall = 0.7942 | F1 = 0.7933 | AUROC= 0.8733 | AUPRC=0.8463\n"
     ]
    }
   ],
   "source": [
    "performance_list = []\n",
    "total_f1 = []\n",
    "KNN_f1 = []\n",
    "\n",
    "\n",
    "for epoch in range(1, configs.num_epoch + 1):\n",
    "    valid_loss, emb_finetune, label_finetune, F1 = model_finetune(TFC_model, model_optimizer, \n",
    "                                                                valid_dl, configs, device, training_mode, \n",
    "                                                                classifier, classifier_optimizer)\n",
    "\n",
    "    scheduler.step(valid_loss)\n",
    "\n",
    "\n",
    "            \n",
    "    if len(total_f1) == 0 or F1 > max(total_f1):\n",
    "        print('update fine-tuned model')\n",
    "        os.makedirs('experiments_logs/finetunemodel/', exist_ok=True)\n",
    "        torch.save(TFC_model.state_dict(), 'experiments_logs/finetunemodel/' + arch + '_model.pt')\n",
    "        torch.save(classifier.state_dict(), 'experiments_logs/finetunemodel/' + arch + '_classifier.pt')\n",
    "    \n",
    "    \n",
    "    total_f1.append(F1)\n",
    "\n",
    "\n",
    "    TFC_model.load_state_dict(torch.load('experiments_logs/finetunemodel/' + arch + '_model.pt'))\n",
    "    classifier.load_state_dict(torch.load('experiments_logs/finetunemodel/' + arch + '_classifier.pt'))\n",
    "    \n",
    "    test_loss, test_acc, test_auc, test_prc, emb_test, label_test, performance = model_test(TFC_model, test_dl, configs, device, training_mode,\n",
    "                                                             classifier=classifier, classifier_optimizer=classifier_optimizer)\n",
    "    \n",
    "    F1_knn = model_test_knn(emb_finetune, label_finetune, emb_test, label_test)\n",
    "    KNN_f1.append(F1_knn)\n",
    "    \n",
    "    performance_list.append(performance)\n",
    "\n",
    "\n",
    "    # break\n"
   ]
  },
  {
   "cell_type": "code",
   "execution_count": 15,
   "metadata": {},
   "outputs": [
    {
     "name": "stdout",
     "output_type": "stream",
     "text": [
      "Best Testing Performance: Acc=81.5294| Precision = 81.7430 | Recall = 81.4899 | F1 = 81.4838 | AUROC= 90.8718 | AUPRC=91.3351\n"
     ]
    }
   ],
   "source": [
    "performance_array = np.array(performance_list)\n",
    "best_performance = performance_array[np.argmax(performance_array[:,-2], axis=0)]\n",
    "\n",
    "print('Best Testing Performance: Acc=%.4f| Precision = %.4f | Recall = %.4f | F1 = %.4f | AUROC= %.4f '\n",
    "              '| AUPRC=%.4f' % (best_performance[0], best_performance[1], best_performance[2], best_performance[3],\n",
    "                                best_performance[4], best_performance[5]))"
   ]
  },
  {
   "cell_type": "code",
   "execution_count": null,
   "metadata": {},
   "outputs": [],
   "source": []
  },
  {
   "attachments": {},
   "cell_type": "markdown",
   "metadata": {},
   "source": [
    "### visualise embeddings of test set"
   ]
  },
  {
   "cell_type": "code",
   "execution_count": 29,
   "metadata": {},
   "outputs": [],
   "source": [
    "from sklearn.manifold import TSNE"
   ]
  },
  {
   "cell_type": "code",
   "execution_count": 44,
   "metadata": {},
   "outputs": [],
   "source": [
    "data, labels, aug1, data_f, aug1_f = next(iter(test_dl))"
   ]
  },
  {
   "cell_type": "code",
   "execution_count": 48,
   "metadata": {},
   "outputs": [],
   "source": [
    "h_t, z_t, h_f, z_f = TFC_model(data.to(torch.float32).to(device), data_f.to(torch.float32).to(device))\n",
    "fea_concat = torch.cat((z_t, z_f), dim=1)\n",
    "fea_concat = fea_concat.to('cpu').detach().numpy()"
   ]
  },
  {
   "cell_type": "code",
   "execution_count": 49,
   "metadata": {},
   "outputs": [],
   "source": [
    "X_embedded = TSNE(n_components=2, learning_rate='auto', init='random', perplexity=3).fit_transform(fea_concat)"
   ]
  },
  {
   "cell_type": "code",
   "execution_count": 50,
   "metadata": {},
   "outputs": [
    {
     "data": {
      "text/plain": [
       "<matplotlib.collections.PathCollection at 0x7fcb795baa00>"
      ]
     },
     "execution_count": 50,
     "metadata": {},
     "output_type": "execute_result"
    },
    {
     "data": {
      "image/png": "[encoded data removed]",
      "text/plain": [
       "<Figure size 432x288 with 1 Axes>"
      ]
     },
     "metadata": {
      "needs_background": "light"
     },
     "output_type": "display_data"
    }
   ],
   "source": [
    "plt.scatter(X_embedded[:,0], X_embedded[:,1],c=list(labels.numpy()))"
   ]
  },
  {
   "cell_type": "code",
   "execution_count": null,
   "metadata": {},
   "outputs": [],
   "source": []
  }
 ],
 "metadata": {
  "kernelspec": {
   "display_name": "dl_env_39",
   "language": "python",
   "name": "dl_env"
  },
  "language_info": {
   "codemirror_mode": {
    "name": "ipython",
    "version": 3
   },
   "file_extension": ".py",
   "mimetype": "text/x-python",
   "name": "python",
   "nbconvert_exporter": "python",
   "pygments_lexer": "ipython3",
   "version": "3.9.7"
  },
  "orig_nbformat": 4,
  "vscode": {
   "interpreter": {
    "hash": "d079bcb107641a1326df1bc84975df91168e37aa8e1fb79a357e0c3f937b5f74"
   }
  }
 },
 "nbformat": 4,
 "nbformat_minor": 2
}
